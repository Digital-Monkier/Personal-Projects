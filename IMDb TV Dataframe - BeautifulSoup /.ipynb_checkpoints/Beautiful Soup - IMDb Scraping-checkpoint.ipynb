{
 "cells": [
  {
   "cell_type": "markdown",
   "metadata": {},
   "source": [
    "# Beautiful Soup - IMDb Scraping\n",
    "For this project I'm using urllib.request and BeautifulSoup to scrape the Internet Movie Database adavanced search results (approx 5600 titles). Worth noting I have only used the Requests and Selenium libraries in the past so I'm looking forward to ading BeautifulSoup to the toolbelt.\n",
    "\n",
    "Advanced search details\n",
    "* TV Series, Released between 2000-01-01 and 2020-12-31, Rating Count at least 500, United States, English (Sorted by Popularity Ascending)"
   ]
  },
  {
   "cell_type": "code",
   "execution_count": 2,
   "metadata": {
    "scrolled": true
   },
   "outputs": [],
   "source": [
    "# Load libraries \n",
    "from bs4 import BeautifulSoup\n",
    "import matplotlib.pyplot as plt\n",
    "import pandas as pd\n",
    "from urllib.request import urlopen\n",
    "import numpy as np\n",
    "import re\n"
   ]
  },
  {
   "cell_type": "code",
   "execution_count": 89,
   "metadata": {},
   "outputs": [],
   "source": [
    "# Creating an array with incriment of 250 to capture the 250 results per page each for each of the 5600+ titles \n",
    "nums = np.arange(1, 3250, 250)\n",
    "nums = nums.astype(str)\n"
   ]
  },
  {
   "cell_type": "code",
   "execution_count": 97,
   "metadata": {},
   "outputs": [],
   "source": [
    "# Instantiate the lists to capture the div, span, and classes\n",
    "IMDB = []\n",
    "Name = []\n",
    "Cert = []\n",
    "Years = []\n",
    "Rating = []\n",
    "Genre = []\n",
    "Votes = []\n",
    "Description = []\n",
    "Stars = []\n",
    "Runtime = []\n",
    "\n",
    "\n",
    "# Looping through the numbers of the array which is concatenated to the link\n",
    "for num in nums:\n",
    "    url = \"https://www.imdb.com/search/title/?title_type=tv_series&release_date=2000-01-01,2020-12-31&num_votes=100,&countries=us&languages=en&count=250&start=\"+num+\"&ref_=adv_nxt\"\n",
    "    html = urlopen(url)\n",
    "    soup = BeautifulSoup(html, \"html.parser\")\n",
    "    movies = soup.find_all('div', {'class':'lister-item mode-advanced'})\n",
    "\n",
    "# Looping through the movies contained in the movies lister-item for each page in the num loop\n",
    "    for i in movies:\n",
    "        try:\n",
    "            IMDB.append(i.find('img', {'class':'loadlate'})['data-tconst'][2:])\n",
    "        except:\n",
    "            IMDB.append(np.nan)\n",
    "        try:\n",
    "            Name.append(i.h3.a.text)\n",
    "        except:\n",
    "            Name.append('None')\n",
    "        try:\n",
    "            Runtime.append(i.find(\"span\",{'class':'runtime'}).text[:-3])\n",
    "        except:\n",
    "            # Add np.nan for later conversion to int and fill with mean/median\n",
    "            Runtime.append(np.nan)\n",
    "        try:\n",
    "            # Split the text into release/end years \n",
    "            year = i.find(\"span\", {\"class\": \"lister-item-year text-muted unbold\"}).text[1:-1]\n",
    "            Years.append(year)\n",
    "        except:\n",
    "            Release_year.append(np.nan)\n",
    "            End_year.append(np.nan)\n",
    "        try:\n",
    "            Genre.append(i.find(\"span\", {\"class\": \"genre\"}).text[1:])\n",
    "        except:\n",
    "            Genre.append('None')\n",
    "        try:\n",
    "            Rating.append(i.find(\"div\", {\"class\": \"inline-block ratings-imdb-rating\"})['data-value'])\n",
    "        except:\n",
    "            Rating.append(np.nan)\n",
    "        try:\n",
    "            # Replacing the comma for easier dytpe conversion later\n",
    "            Votes.append(i.find(\"span\", {\"name\": \"nv\"}).text.replace(\",\",\"\"))\n",
    "        except:\n",
    "            Votes.append(np.nan)\n",
    "        try:\n",
    "            Description.append(i.find_all('p', {'class':'text-muted'})[1].text[1:])\n",
    "        except:\n",
    "            Description.append('None')\n",
    "        try:\n",
    "            star = i.find_all(\"a\", href=True)[-4:]\n",
    "            Stars.append(star[0].text+\", \"+star[1].text+\", \"+star[2].text+\", \"+star[3].text)\n",
    "        except:\n",
    "            Stars.append('None')\n"
   ]
  },
  {
   "cell_type": "code",
   "execution_count": 111,
   "metadata": {},
   "outputs": [],
   "source": [
    "# Zipping the lists together \n",
    "data = list(zip(IMDB, Name, Runtime, Years, Genre, Rating, Votes, Description, Stars))"
   ]
  },
  {
   "cell_type": "code",
   "execution_count": 112,
   "metadata": {
    "scrolled": true
   },
   "outputs": [
    {
     "name": "stdout",
     "output_type": "stream",
     "text": [
      "(3250, 9)\n"
     ]
    },
    {
     "data": {
      "text/html": [
       "<div>\n",
       "<style scoped>\n",
       "    .dataframe tbody tr th:only-of-type {\n",
       "        vertical-align: middle;\n",
       "    }\n",
       "\n",
       "    .dataframe tbody tr th {\n",
       "        vertical-align: top;\n",
       "    }\n",
       "\n",
       "    .dataframe thead th {\n",
       "        text-align: right;\n",
       "    }\n",
       "</style>\n",
       "<table border=\"1\" class=\"dataframe\">\n",
       "  <thead>\n",
       "    <tr style=\"text-align: right;\">\n",
       "      <th></th>\n",
       "      <th>IMDB</th>\n",
       "      <th>Name</th>\n",
       "      <th>Runtime (mins)</th>\n",
       "      <th>Years</th>\n",
       "      <th>Genre</th>\n",
       "      <th>Rating</th>\n",
       "      <th>Votes</th>\n",
       "      <th>Description</th>\n",
       "      <th>Stars</th>\n",
       "    </tr>\n",
       "  </thead>\n",
       "  <tbody>\n",
       "    <tr>\n",
       "      <th>0</th>\n",
       "      <td>8740790</td>\n",
       "      <td>Bridgerton</td>\n",
       "      <td>60</td>\n",
       "      <td>2020–</td>\n",
       "      <td>Drama, Romance</td>\n",
       "      <td>7.3</td>\n",
       "      <td>50357</td>\n",
       "      <td>Wealth, lust, and betrayal set against the...</td>\n",
       "      <td>Phoebe Dynevor, Regé-Jean Page, Nicola Coughla...</td>\n",
       "    </tr>\n",
       "    <tr>\n",
       "      <th>1</th>\n",
       "      <td>7221388</td>\n",
       "      <td>Cobra Kai</td>\n",
       "      <td>30</td>\n",
       "      <td>2018–</td>\n",
       "      <td>Action, Comedy, Drama</td>\n",
       "      <td>8.6</td>\n",
       "      <td>104807</td>\n",
       "      <td>Decades after their 1984 All Valley Karate...</td>\n",
       "      <td>Ralph Macchio, William Zabka, Xolo Maridueña, ...</td>\n",
       "    </tr>\n",
       "    <tr>\n",
       "      <th>2</th>\n",
       "      <td>8111088</td>\n",
       "      <td>The Mandalorian</td>\n",
       "      <td>40</td>\n",
       "      <td>2019–</td>\n",
       "      <td>Action, Adventure, Sci-Fi</td>\n",
       "      <td>8.8</td>\n",
       "      <td>281712</td>\n",
       "      <td>The travels of a lone bounty hunter in the...</td>\n",
       "      <td>Pedro Pascal, Gina Carano, Giancarlo Esposito,...</td>\n",
       "    </tr>\n",
       "    <tr>\n",
       "      <th>3</th>\n",
       "      <td>4477976</td>\n",
       "      <td>Superstore</td>\n",
       "      <td>22</td>\n",
       "      <td>2015–</td>\n",
       "      <td>Comedy</td>\n",
       "      <td>7.8</td>\n",
       "      <td>23192</td>\n",
       "      <td>A look at the lives of employees at a big ...</td>\n",
       "      <td>Ben Feldman, Lauren Ash, Colton Dunn, Nico Santos</td>\n",
       "    </tr>\n",
       "    <tr>\n",
       "      <th>4</th>\n",
       "      <td>0944947</td>\n",
       "      <td>Game of Thrones</td>\n",
       "      <td>57</td>\n",
       "      <td>2011–2019</td>\n",
       "      <td>Action, Adventure, Drama</td>\n",
       "      <td>9.3</td>\n",
       "      <td>1763644</td>\n",
       "      <td>Nine noble families fight for control over...</td>\n",
       "      <td>Emilia Clarke, Peter Dinklage, Kit Harington, ...</td>\n",
       "    </tr>\n",
       "  </tbody>\n",
       "</table>\n",
       "</div>"
      ],
      "text/plain": [
       "      IMDB             Name Runtime (mins)      Years  \\\n",
       "0  8740790       Bridgerton            60      2020–    \n",
       "1  7221388        Cobra Kai            30      2018–    \n",
       "2  8111088  The Mandalorian            40      2019–    \n",
       "3  4477976       Superstore            22      2015–    \n",
       "4  0944947  Game of Thrones            57   2011–2019   \n",
       "\n",
       "                                   Genre Rating    Votes  \\\n",
       "0             Drama, Romance                7.3    50357   \n",
       "1      Action, Comedy, Drama                8.6   104807   \n",
       "2  Action, Adventure, Sci-Fi                8.8   281712   \n",
       "3                     Comedy                7.8    23192   \n",
       "4   Action, Adventure, Drama                9.3  1763644   \n",
       "\n",
       "                                         Description  \\\n",
       "0      Wealth, lust, and betrayal set against the...   \n",
       "1      Decades after their 1984 All Valley Karate...   \n",
       "2      The travels of a lone bounty hunter in the...   \n",
       "3      A look at the lives of employees at a big ...   \n",
       "4      Nine noble families fight for control over...   \n",
       "\n",
       "                                               Stars  \n",
       "0  Phoebe Dynevor, Regé-Jean Page, Nicola Coughla...  \n",
       "1  Ralph Macchio, William Zabka, Xolo Maridueña, ...  \n",
       "2  Pedro Pascal, Gina Carano, Giancarlo Esposito,...  \n",
       "3  Ben Feldman, Lauren Ash, Colton Dunn, Nico Santos  \n",
       "4  Emilia Clarke, Peter Dinklage, Kit Harington, ...  "
      ]
     },
     "execution_count": 112,
     "metadata": {},
     "output_type": "execute_result"
    }
   ],
   "source": [
    "# Creating the dataframe from the results\n",
    "df = pd.DataFrame(data, columns = ['IMDB','Name', 'Runtime (mins)', \"Years\", 'Genre', 'Rating', 'Votes' , 'Description', 'Stars'])\n",
    "print(df.shape)\n",
    "df.head()"
   ]
  },
  {
   "cell_type": "code",
   "execution_count": 116,
   "metadata": {},
   "outputs": [],
   "source": [
    "RE_years = df['Years'].str.split(\"–\", expand=True)\n",
    "df['Release_year'] = RE_years[0]\n",
    "df['End_year'] = RE_years[1]\n",
    "df.drop('Years', axis=1, inplace=True)"
   ]
  },
  {
   "cell_type": "code",
   "execution_count": 119,
   "metadata": {},
   "outputs": [],
   "source": [
    "# Can see a little short coming in the Stars col where there were less than 4 stars e.g. 1 of 3 stars produces\n",
    "# \"10, X, See full summary, \" in its place.\n",
    "df['Stars'] = df['Stars'].str.replace(\"10,\", \"\").str.replace(\"X,\", \"\").str.replace(\"See full summary,\", \"\")\n",
    "# Many End years and a few release years where not present in the table and thus not scraped\n",
    "df['Release_year'] = df['Release_year'].str.replace('(', \"\").str.replace(\"II\\) \", \"\", regex=True).str.replace(\"I\\)\", \"\", regex=True)\n",
    "# Cpuple of shows have the entire seasons runtime i.e 3,900 is 84 x 46mins\n",
    "df['Runtime (mins)'] = df['Runtime (mins)'].str.replace(\"1,248 \" ,\"22\").str.replace(\"3,900 \", \"46\")"
   ]
  },
  {
   "cell_type": "code",
   "execution_count": 120,
   "metadata": {},
   "outputs": [
    {
     "data": {
      "text/html": [
       "<div>\n",
       "<style scoped>\n",
       "    .dataframe tbody tr th:only-of-type {\n",
       "        vertical-align: middle;\n",
       "    }\n",
       "\n",
       "    .dataframe tbody tr th {\n",
       "        vertical-align: top;\n",
       "    }\n",
       "\n",
       "    .dataframe thead th {\n",
       "        text-align: right;\n",
       "    }\n",
       "</style>\n",
       "<table border=\"1\" class=\"dataframe\">\n",
       "  <thead>\n",
       "    <tr style=\"text-align: right;\">\n",
       "      <th></th>\n",
       "      <th>IMDB</th>\n",
       "      <th>Name</th>\n",
       "      <th>Runtime (mins)</th>\n",
       "      <th>Genre</th>\n",
       "      <th>Rating</th>\n",
       "      <th>Votes</th>\n",
       "      <th>Description</th>\n",
       "      <th>Stars</th>\n",
       "      <th>Release_year</th>\n",
       "      <th>End_year</th>\n",
       "    </tr>\n",
       "  </thead>\n",
       "  <tbody>\n",
       "    <tr>\n",
       "      <th>0</th>\n",
       "      <td>8740790</td>\n",
       "      <td>Bridgerton</td>\n",
       "      <td>60</td>\n",
       "      <td>Drama, Romance</td>\n",
       "      <td>7.3</td>\n",
       "      <td>50357</td>\n",
       "      <td>Wealth, lust, and betrayal set against the...</td>\n",
       "      <td>Phoebe Dynevor, Regé-Jean Page, Nicola Coughla...</td>\n",
       "      <td>2020</td>\n",
       "      <td></td>\n",
       "    </tr>\n",
       "    <tr>\n",
       "      <th>1</th>\n",
       "      <td>7221388</td>\n",
       "      <td>Cobra Kai</td>\n",
       "      <td>30</td>\n",
       "      <td>Action, Comedy, Drama</td>\n",
       "      <td>8.6</td>\n",
       "      <td>104807</td>\n",
       "      <td>Decades after their 1984 All Valley Karate...</td>\n",
       "      <td>Ralph Macchio, William Zabka, Xolo Maridueña, ...</td>\n",
       "      <td>2018</td>\n",
       "      <td></td>\n",
       "    </tr>\n",
       "    <tr>\n",
       "      <th>2</th>\n",
       "      <td>8111088</td>\n",
       "      <td>The Mandalorian</td>\n",
       "      <td>40</td>\n",
       "      <td>Action, Adventure, Sci-Fi</td>\n",
       "      <td>8.8</td>\n",
       "      <td>281712</td>\n",
       "      <td>The travels of a lone bounty hunter in the...</td>\n",
       "      <td>Pedro Pascal, Gina Carano, Giancarlo Esposito,...</td>\n",
       "      <td>2019</td>\n",
       "      <td></td>\n",
       "    </tr>\n",
       "    <tr>\n",
       "      <th>3</th>\n",
       "      <td>4477976</td>\n",
       "      <td>Superstore</td>\n",
       "      <td>22</td>\n",
       "      <td>Comedy</td>\n",
       "      <td>7.8</td>\n",
       "      <td>23192</td>\n",
       "      <td>A look at the lives of employees at a big ...</td>\n",
       "      <td>Ben Feldman, Lauren Ash, Colton Dunn, Nico Santos</td>\n",
       "      <td>2015</td>\n",
       "      <td></td>\n",
       "    </tr>\n",
       "    <tr>\n",
       "      <th>4</th>\n",
       "      <td>0944947</td>\n",
       "      <td>Game of Thrones</td>\n",
       "      <td>57</td>\n",
       "      <td>Action, Adventure, Drama</td>\n",
       "      <td>9.3</td>\n",
       "      <td>1763644</td>\n",
       "      <td>Nine noble families fight for control over...</td>\n",
       "      <td>Emilia Clarke, Peter Dinklage, Kit Harington, ...</td>\n",
       "      <td>2011</td>\n",
       "      <td>2019</td>\n",
       "    </tr>\n",
       "  </tbody>\n",
       "</table>\n",
       "</div>"
      ],
      "text/plain": [
       "      IMDB             Name Runtime (mins)  \\\n",
       "0  8740790       Bridgerton            60    \n",
       "1  7221388        Cobra Kai            30    \n",
       "2  8111088  The Mandalorian            40    \n",
       "3  4477976       Superstore            22    \n",
       "4  0944947  Game of Thrones            57    \n",
       "\n",
       "                                   Genre Rating    Votes  \\\n",
       "0             Drama, Romance                7.3    50357   \n",
       "1      Action, Comedy, Drama                8.6   104807   \n",
       "2  Action, Adventure, Sci-Fi                8.8   281712   \n",
       "3                     Comedy                7.8    23192   \n",
       "4   Action, Adventure, Drama                9.3  1763644   \n",
       "\n",
       "                                         Description  \\\n",
       "0      Wealth, lust, and betrayal set against the...   \n",
       "1      Decades after their 1984 All Valley Karate...   \n",
       "2      The travels of a lone bounty hunter in the...   \n",
       "3      A look at the lives of employees at a big ...   \n",
       "4      Nine noble families fight for control over...   \n",
       "\n",
       "                                               Stars Release_year End_year  \n",
       "0  Phoebe Dynevor, Regé-Jean Page, Nicola Coughla...         2020           \n",
       "1  Ralph Macchio, William Zabka, Xolo Maridueña, ...         2018           \n",
       "2  Pedro Pascal, Gina Carano, Giancarlo Esposito,...         2019           \n",
       "3  Ben Feldman, Lauren Ash, Colton Dunn, Nico Santos         2015           \n",
       "4  Emilia Clarke, Peter Dinklage, Kit Harington, ...         2011     2019  "
      ]
     },
     "execution_count": 120,
     "metadata": {},
     "output_type": "execute_result"
    }
   ],
   "source": [
    "df.head()"
   ]
  },
  {
   "cell_type": "code",
   "execution_count": 122,
   "metadata": {},
   "outputs": [],
   "source": [
    "df.to_csv(\"Saved CSVs/tv_series_2000_2020.csv\", index=False)"
   ]
  },
  {
   "cell_type": "markdown",
   "metadata": {},
   "source": [
    "# Part 2\n",
    "\n",
    "### Scraping additional data from the main page of each title and the associated company credits page\n",
    "* Missing titles end/most recent season years\n",
    "* No. of episodes\n",
    "* No. of seasons\n",
    "* Distribution company\n",
    "* Full list of genres (not limited to 3)"
   ]
  },
  {
   "cell_type": "code",
   "execution_count": 34,
   "metadata": {},
   "outputs": [],
   "source": [
    "# Loading cols as string for concaaination with loops below\n",
    "df = pd.read_csv('tv_series_2000_2020.csv', dtype={'Release_year': \"object\", 'IMDB': 'object'})"
   ]
  },
  {
   "cell_type": "code",
   "execution_count": 35,
   "metadata": {},
   "outputs": [
    {
     "data": {
      "text/html": [
       "<div>\n",
       "<style scoped>\n",
       "    .dataframe tbody tr th:only-of-type {\n",
       "        vertical-align: middle;\n",
       "    }\n",
       "\n",
       "    .dataframe tbody tr th {\n",
       "        vertical-align: top;\n",
       "    }\n",
       "\n",
       "    .dataframe thead th {\n",
       "        text-align: right;\n",
       "    }\n",
       "</style>\n",
       "<table border=\"1\" class=\"dataframe\">\n",
       "  <thead>\n",
       "    <tr style=\"text-align: right;\">\n",
       "      <th></th>\n",
       "      <th>IMDB</th>\n",
       "      <th>Name</th>\n",
       "      <th>Runtime (mins)</th>\n",
       "      <th>Genre</th>\n",
       "      <th>Rating</th>\n",
       "      <th>Votes</th>\n",
       "      <th>Description</th>\n",
       "      <th>Stars</th>\n",
       "      <th>Release_year</th>\n",
       "      <th>End_year</th>\n",
       "      <th>Episodes</th>\n",
       "    </tr>\n",
       "  </thead>\n",
       "  <tbody>\n",
       "    <tr>\n",
       "      <th>0</th>\n",
       "      <td>8740790</td>\n",
       "      <td>Bridgerton</td>\n",
       "      <td>60.0</td>\n",
       "      <td>Drama, Romance</td>\n",
       "      <td>7.3</td>\n",
       "      <td>50357</td>\n",
       "      <td>Wealth, lust, and betrayal set against the...</td>\n",
       "      <td>Phoebe Dynevor, Regé-Jean Page, Nicola Coughla...</td>\n",
       "      <td>2020</td>\n",
       "      <td></td>\n",
       "      <td>9</td>\n",
       "    </tr>\n",
       "    <tr>\n",
       "      <th>1</th>\n",
       "      <td>7221388</td>\n",
       "      <td>Cobra Kai</td>\n",
       "      <td>30.0</td>\n",
       "      <td>Action, Comedy, Drama</td>\n",
       "      <td>8.6</td>\n",
       "      <td>104807</td>\n",
       "      <td>Decades after their 1984 All Valley Karate...</td>\n",
       "      <td>Ralph Macchio, William Zabka, Xolo Maridueña, ...</td>\n",
       "      <td>2018</td>\n",
       "      <td></td>\n",
       "      <td>33</td>\n",
       "    </tr>\n",
       "    <tr>\n",
       "      <th>2</th>\n",
       "      <td>8111088</td>\n",
       "      <td>The Mandalorian</td>\n",
       "      <td>40.0</td>\n",
       "      <td>Action, Adventure, Sci-Fi</td>\n",
       "      <td>8.8</td>\n",
       "      <td>281712</td>\n",
       "      <td>The travels of a lone bounty hunter in the...</td>\n",
       "      <td>Pedro Pascal, Gina Carano, Giancarlo Esposito,...</td>\n",
       "      <td>2019</td>\n",
       "      <td></td>\n",
       "      <td>24</td>\n",
       "    </tr>\n",
       "    <tr>\n",
       "      <th>3</th>\n",
       "      <td>4477976</td>\n",
       "      <td>Superstore</td>\n",
       "      <td>22.0</td>\n",
       "      <td>Comedy</td>\n",
       "      <td>7.8</td>\n",
       "      <td>23192</td>\n",
       "      <td>A look at the lives of employees at a big ...</td>\n",
       "      <td>Ben Feldman, Lauren Ash, Colton Dunn, Nico Santos</td>\n",
       "      <td>2015</td>\n",
       "      <td></td>\n",
       "      <td>113</td>\n",
       "    </tr>\n",
       "    <tr>\n",
       "      <th>4</th>\n",
       "      <td>0944947</td>\n",
       "      <td>Game of Thrones</td>\n",
       "      <td>57.0</td>\n",
       "      <td>Action, Adventure, Drama</td>\n",
       "      <td>9.3</td>\n",
       "      <td>1763644</td>\n",
       "      <td>Nine noble families fight for control over...</td>\n",
       "      <td>Emilia Clarke, Peter Dinklage, Kit Harington, ...</td>\n",
       "      <td>2011</td>\n",
       "      <td>2019</td>\n",
       "      <td>73</td>\n",
       "    </tr>\n",
       "  </tbody>\n",
       "</table>\n",
       "</div>"
      ],
      "text/plain": [
       "      IMDB             Name  Runtime (mins)  \\\n",
       "0  8740790       Bridgerton            60.0   \n",
       "1  7221388        Cobra Kai            30.0   \n",
       "2  8111088  The Mandalorian            40.0   \n",
       "3  4477976       Superstore            22.0   \n",
       "4  0944947  Game of Thrones            57.0   \n",
       "\n",
       "                                   Genre  Rating    Votes  \\\n",
       "0             Drama, Romance                 7.3    50357   \n",
       "1      Action, Comedy, Drama                 8.6   104807   \n",
       "2  Action, Adventure, Sci-Fi                 8.8   281712   \n",
       "3                     Comedy                 7.8    23192   \n",
       "4   Action, Adventure, Drama                 9.3  1763644   \n",
       "\n",
       "                                         Description  \\\n",
       "0      Wealth, lust, and betrayal set against the...   \n",
       "1      Decades after their 1984 All Valley Karate...   \n",
       "2      The travels of a lone bounty hunter in the...   \n",
       "3      A look at the lives of employees at a big ...   \n",
       "4      Nine noble families fight for control over...   \n",
       "\n",
       "                                               Stars Release_year End_year  \\\n",
       "0  Phoebe Dynevor, Regé-Jean Page, Nicola Coughla...         2020            \n",
       "1  Ralph Macchio, William Zabka, Xolo Maridueña, ...         2018            \n",
       "2  Pedro Pascal, Gina Carano, Giancarlo Esposito,...         2019            \n",
       "3  Ben Feldman, Lauren Ash, Colton Dunn, Nico Santos         2015            \n",
       "4  Emilia Clarke, Peter Dinklage, Kit Harington, ...         2011     2019   \n",
       "\n",
       "   Episodes  \n",
       "0         9  \n",
       "1        33  \n",
       "2        24  \n",
       "3       113  \n",
       "4        73  "
      ]
     },
     "execution_count": 35,
     "metadata": {},
     "output_type": "execute_result"
    }
   ],
   "source": [
    "df.head()"
   ]
  },
  {
   "cell_type": "code",
   "execution_count": 128,
   "metadata": {},
   "outputs": [
    {
     "data": {
      "text/plain": [
       "IMDB               object\n",
       "Name               object\n",
       "Runtime (mins)    float64\n",
       "Genre              object\n",
       "Rating            float64\n",
       "Votes               int64\n",
       "Description        object\n",
       "Stars              object\n",
       "Release_year       object\n",
       "End_year           object\n",
       "dtype: object"
      ]
     },
     "execution_count": 128,
     "metadata": {},
     "output_type": "execute_result"
    }
   ],
   "source": [
    "df.dtypes"
   ]
  },
  {
   "cell_type": "code",
   "execution_count": 82,
   "metadata": {},
   "outputs": [],
   "source": [
    "# Lists that contin the imdb id for most scapres and release for to assist in pulling correct distributors \n",
    "imdbid = df['IMDB'].tolist()\n",
    "ry = df['Release_year'].tolist()\n",
    "\n",
    "# Test\n",
    "# short_list = imdb_year[:5]"
   ]
  },
  {
   "cell_type": "markdown",
   "metadata": {},
   "source": [
    "# Starting with episode count"
   ]
  },
  {
   "cell_type": "code",
   "execution_count": 141,
   "metadata": {
    "scrolled": true
   },
   "outputs": [],
   "source": [
    "# Load first page of results into soup \n",
    "\n",
    "Episodes = []\n",
    " \n",
    "for imdb in imdbid:\n",
    "    url = \"https://www.imdb.com/title/tt\"+imdb\n",
    "    html = urlopen(url)\n",
    "    soup = BeautifulSoup(html, \"html.parser\")\n",
    "    #soup.title.text\n",
    "    try:\n",
    "        eps = soup.find_all('span',{'class':'bp_sub_heading'})\n",
    "        for x in eps:\n",
    "            if \"episodes\" in x.text:\n",
    "                Episodes.append(x.text.replace(' episodes', \"\"))\n",
    "            elif \"episode\" in x.text:\n",
    "                Episodes.append(x.text.replace(' episode', \"\"))\n",
    "            else:\n",
    "                pass\n",
    "    except:\n",
    "        Episodes.append(\"None\")"
   ]
  },
  {
   "cell_type": "code",
   "execution_count": 145,
   "metadata": {},
   "outputs": [
    {
     "data": {
      "text/html": [
       "<div>\n",
       "<style scoped>\n",
       "    .dataframe tbody tr th:only-of-type {\n",
       "        vertical-align: middle;\n",
       "    }\n",
       "\n",
       "    .dataframe tbody tr th {\n",
       "        vertical-align: top;\n",
       "    }\n",
       "\n",
       "    .dataframe thead th {\n",
       "        text-align: right;\n",
       "    }\n",
       "</style>\n",
       "<table border=\"1\" class=\"dataframe\">\n",
       "  <thead>\n",
       "    <tr style=\"text-align: right;\">\n",
       "      <th></th>\n",
       "      <th>IMDB</th>\n",
       "      <th>Name</th>\n",
       "      <th>Runtime (mins)</th>\n",
       "      <th>Genre</th>\n",
       "      <th>Rating</th>\n",
       "      <th>Votes</th>\n",
       "      <th>Description</th>\n",
       "      <th>Stars</th>\n",
       "      <th>Release_year</th>\n",
       "      <th>End_year</th>\n",
       "      <th>Episodes</th>\n",
       "    </tr>\n",
       "  </thead>\n",
       "  <tbody>\n",
       "    <tr>\n",
       "      <th>0</th>\n",
       "      <td>8740790</td>\n",
       "      <td>Bridgerton</td>\n",
       "      <td>60.0</td>\n",
       "      <td>Drama, Romance</td>\n",
       "      <td>7.3</td>\n",
       "      <td>50357</td>\n",
       "      <td>Wealth, lust, and betrayal set against the...</td>\n",
       "      <td>Phoebe Dynevor, Regé-Jean Page, Nicola Coughla...</td>\n",
       "      <td>2020</td>\n",
       "      <td></td>\n",
       "      <td>9</td>\n",
       "    </tr>\n",
       "    <tr>\n",
       "      <th>1</th>\n",
       "      <td>7221388</td>\n",
       "      <td>Cobra Kai</td>\n",
       "      <td>30.0</td>\n",
       "      <td>Action, Comedy, Drama</td>\n",
       "      <td>8.6</td>\n",
       "      <td>104807</td>\n",
       "      <td>Decades after their 1984 All Valley Karate...</td>\n",
       "      <td>Ralph Macchio, William Zabka, Xolo Maridueña, ...</td>\n",
       "      <td>2018</td>\n",
       "      <td></td>\n",
       "      <td>33</td>\n",
       "    </tr>\n",
       "    <tr>\n",
       "      <th>2</th>\n",
       "      <td>8111088</td>\n",
       "      <td>The Mandalorian</td>\n",
       "      <td>40.0</td>\n",
       "      <td>Action, Adventure, Sci-Fi</td>\n",
       "      <td>8.8</td>\n",
       "      <td>281712</td>\n",
       "      <td>The travels of a lone bounty hunter in the...</td>\n",
       "      <td>Pedro Pascal, Gina Carano, Giancarlo Esposito,...</td>\n",
       "      <td>2019</td>\n",
       "      <td></td>\n",
       "      <td>24</td>\n",
       "    </tr>\n",
       "    <tr>\n",
       "      <th>3</th>\n",
       "      <td>4477976</td>\n",
       "      <td>Superstore</td>\n",
       "      <td>22.0</td>\n",
       "      <td>Comedy</td>\n",
       "      <td>7.8</td>\n",
       "      <td>23192</td>\n",
       "      <td>A look at the lives of employees at a big ...</td>\n",
       "      <td>Ben Feldman, Lauren Ash, Colton Dunn, Nico Santos</td>\n",
       "      <td>2015</td>\n",
       "      <td></td>\n",
       "      <td>113</td>\n",
       "    </tr>\n",
       "    <tr>\n",
       "      <th>4</th>\n",
       "      <td>0944947</td>\n",
       "      <td>Game of Thrones</td>\n",
       "      <td>57.0</td>\n",
       "      <td>Action, Adventure, Drama</td>\n",
       "      <td>9.3</td>\n",
       "      <td>1763644</td>\n",
       "      <td>Nine noble families fight for control over...</td>\n",
       "      <td>Emilia Clarke, Peter Dinklage, Kit Harington, ...</td>\n",
       "      <td>2011</td>\n",
       "      <td>2019</td>\n",
       "      <td>73</td>\n",
       "    </tr>\n",
       "  </tbody>\n",
       "</table>\n",
       "</div>"
      ],
      "text/plain": [
       "      IMDB             Name  Runtime (mins)  \\\n",
       "0  8740790       Bridgerton            60.0   \n",
       "1  7221388        Cobra Kai            30.0   \n",
       "2  8111088  The Mandalorian            40.0   \n",
       "3  4477976       Superstore            22.0   \n",
       "4  0944947  Game of Thrones            57.0   \n",
       "\n",
       "                                   Genre  Rating    Votes  \\\n",
       "0             Drama, Romance                 7.3    50357   \n",
       "1      Action, Comedy, Drama                 8.6   104807   \n",
       "2  Action, Adventure, Sci-Fi                 8.8   281712   \n",
       "3                     Comedy                 7.8    23192   \n",
       "4   Action, Adventure, Drama                 9.3  1763644   \n",
       "\n",
       "                                         Description  \\\n",
       "0      Wealth, lust, and betrayal set against the...   \n",
       "1      Decades after their 1984 All Valley Karate...   \n",
       "2      The travels of a lone bounty hunter in the...   \n",
       "3      A look at the lives of employees at a big ...   \n",
       "4      Nine noble families fight for control over...   \n",
       "\n",
       "                                               Stars Release_year End_year  \\\n",
       "0  Phoebe Dynevor, Regé-Jean Page, Nicola Coughla...         2020            \n",
       "1  Ralph Macchio, William Zabka, Xolo Maridueña, ...         2018            \n",
       "2  Pedro Pascal, Gina Carano, Giancarlo Esposito,...         2019            \n",
       "3  Ben Feldman, Lauren Ash, Colton Dunn, Nico Santos         2015            \n",
       "4  Emilia Clarke, Peter Dinklage, Kit Harington, ...         2011     2019   \n",
       "\n",
       "  Episodes  \n",
       "0        9  \n",
       "1       33  \n",
       "2       24  \n",
       "3      113  \n",
       "4       73  "
      ]
     },
     "execution_count": 145,
     "metadata": {},
     "output_type": "execute_result"
    }
   ],
   "source": [
    "df['Episodes'] = Episodes"
   ]
  },
  {
   "cell_type": "code",
   "execution_count": 148,
   "metadata": {},
   "outputs": [],
   "source": [
    "# Saving verified results to csv\n",
    "df.to_csv(\"Saved CSVs/tv_series_2000_2020_episodes.csv\", index=False)"
   ]
  },
  {
   "cell_type": "markdown",
   "metadata": {},
   "source": [
    "# Moving onto seasons"
   ]
  },
  {
   "cell_type": "code",
   "execution_count": 2,
   "metadata": {},
   "outputs": [],
   "source": [
    "df = pd.read_csv('tv_series_2000_2020_episodes.csv', dtype={'Release_year': \"object\", 'IMDB': 'object'})"
   ]
  },
  {
   "cell_type": "code",
   "execution_count": 433,
   "metadata": {},
   "outputs": [],
   "source": [
    "# Find_all list of div containers that hold each set of series data on each page\n",
    "Seasons = []\n",
    " \n",
    "for imdb in imdbid[742:]:\n",
    "    url = \"https://www.imdb.com/title/tt\"+str(imdb)\n",
    "    html = urlopen(url)\n",
    "    soup = BeautifulSoup(html, \"html.parser\")\n",
    "    #soup.title.text  \n",
    "   \n",
    "    try:\n",
    "        titles = soup.find_all('div', {'class':'seasons-and-year-nav'})\n",
    "\n",
    "    for x in titles:\n",
    "        x.text\n",
    "        # Number seasons and start year\n",
    "        if x.text != None:\n",
    "            season_count = x.find_all(\"a\", href=True)\n",
    "            Seasons.append(season_count[0].text)\n",
    "    "
   ]
  },
  {
   "cell_type": "code",
   "execution_count": 496,
   "metadata": {},
   "outputs": [],
   "source": [
    "# Creating column\n",
    "df['Seasons'] = Seasons"
   ]
  },
  {
   "cell_type": "code",
   "execution_count": 497,
   "metadata": {},
   "outputs": [],
   "source": [
    "# Saving verified results\n",
    "df.to_csv(\"Saved CSVs/tv_series_2000_2020_seasons.csv\", index=False)"
   ]
  },
  {
   "cell_type": "markdown",
   "metadata": {},
   "source": [
    "# Moving to Distributors"
   ]
  },
  {
   "cell_type": "code",
   "execution_count": null,
   "metadata": {},
   "outputs": [],
   "source": [
    "df = pd.read_csv('tv_series_2000_2020_seasons.csv', dtype={'Release_year': \"object\", 'IMDB': 'object'})"
   ]
  },
  {
   "cell_type": "code",
   "execution_count": 259,
   "metadata": {},
   "outputs": [],
   "source": [
    "# Test\n",
    "# short_list = imdbid[:5]"
   ]
  },
  {
   "cell_type": "code",
   "execution_count": 648,
   "metadata": {},
   "outputs": [],
   "source": [
    "# Creating a dictionary pair for IMDb id and Release Year\n",
    "imdb_ry = dict(zip(imdbid, ry))"
   ]
  },
  {
   "cell_type": "code",
   "execution_count": 649,
   "metadata": {},
   "outputs": [
    {
     "name": "stdout",
     "output_type": "stream",
     "text": [
      "CPU times: user 3min 49s, sys: 12.7 s, total: 4min 2s\n",
      "Wall time: 1h 25s\n"
     ]
    }
   ],
   "source": [
    "%%time\n",
    "dist_list =[]\n",
    "# Replaced imdb_year.items() with second_half in a new cell with same code after HTTP error killed the loop \n",
    "for imdb, ry in imdb_ry.items():    \n",
    "    url = \"https://www.imdb.com/title/tt\"+imdb+\"/companycredits?ref_=tt_ql_dt_4\"\n",
    "    html = urlopen(url)\n",
    "    soup = BeautifulSoup(html, \"html.parser\")\n",
    "    # soup.title.text\n",
    "    try:\n",
    "        dist_table = soup.find_all('ul', {'class':'simpleList'})\n",
    "        x = dist_table[1].text.split('\\n')\n",
    "        \n",
    "        # Conditions ensure the original US distributor is returned while more obscure will still produce a result\n",
    "        foo_indexes = [i for i, s in enumerate(x) if ry and \"USA\" in s or ry and \"World-wide\" in s or \"TV\" and \"USA\" in s]\n",
    "\n",
    "        dist_list.append(x[foo_indexes[0]].split(\"(\", 1)[0].strip())\n",
    "    except:\n",
    "        dist_list.append('None')"
   ]
  },
  {
   "cell_type": "code",
   "execution_count": 665,
   "metadata": {},
   "outputs": [],
   "source": [
    "# Creating col\n",
    "df['Distributor'] = dist_list"
   ]
  },
  {
   "cell_type": "code",
   "execution_count": 667,
   "metadata": {},
   "outputs": [],
   "source": [
    "# Saving results\n",
    "df.to_csv(\"Saved CSVs/tv_series_2000_2020_distributor.csv\", index=False)"
   ]
  },
  {
   "cell_type": "markdown",
   "metadata": {},
   "source": [
    "# Second pass at distributors\n",
    "Capturing some distribors lost by using dist_table[1] this index is correct when there is a production company and there are two 'class':'simpleList' tables. In the case where no production company is listed the dist_table[0] is the distributor list"
   ]
  },
  {
   "cell_type": "code",
   "execution_count": 39,
   "metadata": {},
   "outputs": [],
   "source": [
    "df = pd.read_csv('tv_series_2000_2020_distributor.csv', dtype={'Release_year': \"object\", 'IMDB': 'object'})"
   ]
  },
  {
   "cell_type": "code",
   "execution_count": 40,
   "metadata": {},
   "outputs": [],
   "source": [
    "second_pass = df[df['Distributor'] == 'None']"
   ]
  },
  {
   "cell_type": "code",
   "execution_count": 44,
   "metadata": {
    "scrolled": true
   },
   "outputs": [
    {
     "ename": "NameError",
     "evalue": "name 'second_pass' is not defined",
     "output_type": "error",
     "traceback": [
      "\u001b[0;31m---------------------------------------------------------------------------\u001b[0m",
      "\u001b[0;31mNameError\u001b[0m                                 Traceback (most recent call last)",
      "\u001b[0;32m<ipython-input-44-d2e99e8a9acf>\u001b[0m in \u001b[0;36m<module>\u001b[0;34m\u001b[0m\n\u001b[0;32m----> 1\u001b[0;31m \u001b[0mlen\u001b[0m\u001b[0;34m(\u001b[0m\u001b[0msecond_pass\u001b[0m\u001b[0;34m)\u001b[0m\u001b[0;34m\u001b[0m\u001b[0;34m\u001b[0m\u001b[0m\n\u001b[0m",
      "\u001b[0;31mNameError\u001b[0m: name 'second_pass' is not defined"
     ]
    }
   ],
   "source": [
    "len(second_pass)"
   ]
  },
  {
   "cell_type": "code",
   "execution_count": 59,
   "metadata": {},
   "outputs": [],
   "source": [
    "imdb_ry2 = dict(zip(third_pass['IMDB'], third_pass['Release_year']))"
   ]
  },
  {
   "cell_type": "code",
   "execution_count": 60,
   "metadata": {},
   "outputs": [],
   "source": [
    "pass_list ={}\n",
    "# Replaced imdb_year.items() with second_half in a new cell with same code after HTTP error killed the loop \n",
    "for imdb, ry in imdb_ry2.items():    \n",
    "    url = \"https://www.imdb.com/title/tt\"+imdb+\"/companycredits?ref_=tt_ql_dt_4\"\n",
    "    html = urlopen(url)\n",
    "    soup = BeautifulSoup(html, \"html.parser\")\n",
    "    # soup.title.text\n",
    "    try:\n",
    "        dist_table = soup.find_all('ul', {'class':'simpleList'})\n",
    "        x = dist_table[0].text.split('\\n')\n",
    "        \n",
    "        # Conditions ensure the original US distributor is returned while more obscure will still produce a result\n",
    "        foo_indexes = [i for i, s in enumerate(x) if \"USA\" in s]\n",
    "\n",
    "        pass_list[imdb] = x[foo_indexes[0]].split(\"(\", 1)[0].strip()\n",
    "    except:\n",
    "        pass_list[imdb] = ('None')"
   ]
  },
  {
   "cell_type": "code",
   "execution_count": 62,
   "metadata": {},
   "outputs": [],
   "source": [
    "# Mapping the distributors based on the IMDb key without overwriting the first pass results\n",
    "for key, value in pass_list.items():\n",
    "    df.loc[df['IMDB'] == key, ['Distributor']] = value"
   ]
  },
  {
   "cell_type": "code",
   "execution_count": 45,
   "metadata": {
    "scrolled": true
   },
   "outputs": [
    {
     "data": {
      "text/plain": [
       "218"
      ]
     },
     "execution_count": 45,
     "metadata": {},
     "output_type": "execute_result"
    }
   ],
   "source": [
    "len(df[df['Distributor']=='None'])"
   ]
  },
  {
   "cell_type": "code",
   "execution_count": 65,
   "metadata": {},
   "outputs": [],
   "source": [
    "# Saving verified results\n",
    "df.to_csv(\"Saved CSVs/tv_series_2000_2020_distributor.csv\", index=False)"
   ]
  },
  {
   "cell_type": "markdown",
   "metadata": {},
   "source": [
    "# Moving to certificate"
   ]
  },
  {
   "cell_type": "code",
   "execution_count": 417,
   "metadata": {},
   "outputs": [],
   "source": [
    "df = pd.read_csv('tv_series_2000_2020_distributor.csv', dtype={'Release_year': \"object\", 'IMDB': 'object'})\n",
    "imdbid = df['IMDB'].tolist()"
   ]
  },
  {
   "cell_type": "code",
   "execution_count": 28,
   "metadata": {
    "scrolled": true
   },
   "outputs": [],
   "source": [
    "Certs = {}\n",
    "for imdb in imdbid:\n",
    "    url = \"https://www.imdb.com/title/tt\"+str(imdb)+\"/parentalguide\"\n",
    "    html = urlopen(url)\n",
    "    soup = BeautifulSoup(html, \"html.parser\")\n",
    "    certificates = soup.find_all(\"ul\", {\"class\":\"ipl-inline-list\"})\n",
    "    for cert in certificates:\n",
    "        try:\n",
    "            x = ''.join(re.findall(r\"United States:TV.{1,3}\", cert.text))\n",
    "            y = x.replace(\"United States:\", \"\")\n",
    "            if y != \"\":\n",
    "                Certs[imdb] = y[:5]\n",
    "        except:\n",
    "            Certs[imdb] = 'None'"
   ]
  },
  {
   "cell_type": "code",
   "execution_count": 41,
   "metadata": {},
   "outputs": [],
   "source": [
    "df['Certificate'] = df['IMDB'].map(Certs)"
   ]
  },
  {
   "cell_type": "code",
   "execution_count": 4,
   "metadata": {},
   "outputs": [],
   "source": [
    "df.to_csv(\"Saved CSVs/tv_series_2000_2020_certs.csv\", index=False)"
   ]
  },
  {
   "cell_type": "markdown",
   "metadata": {},
   "source": [
    "# Moving onto story desc and full genre list"
   ]
  },
  {
   "cell_type": "code",
   "execution_count": 8,
   "metadata": {},
   "outputs": [],
   "source": [
    "story = {}\n",
    "genre = {}\n",
    "\n",
    "for imdb in imdbid:\n",
    "    url = \"https://www.imdb.com/title/tt\"+imdb\n",
    "    html = urlopen(url)\n",
    "    soup = BeautifulSoup(html, \"html.parser\")\n",
    "    title = soup.find_all(\"div\", {\"id\":\"titleStoryLine\"})\n",
    "    try:\n",
    "        for x in title:\n",
    "            story[imdb] = x.find(\"p\").text.strip().split('\\n', 1)[0]\n",
    "    except:\n",
    "        story[imdb] = 'None'\n",
    "    try:\n",
    "        for x in title:\n",
    "            genre[imdb] = x.find_all(\"div\", {\"class\":\"see-more inline canwrap\"})[1].text.replace(\"Genres:\", \"\").replace(\"|\", \",\")\n",
    "    except:\n",
    "        genre[imdb] = 'None'\n"
   ]
  },
  {
   "cell_type": "code",
   "execution_count": 10,
   "metadata": {},
   "outputs": [
    {
     "data": {
      "text/plain": [
       "3250"
      ]
     },
     "execution_count": 10,
     "metadata": {},
     "output_type": "execute_result"
    }
   ],
   "source": [
    "len(genre)"
   ]
  },
  {
   "cell_type": "code",
   "execution_count": 40,
   "metadata": {
    "scrolled": true
   },
   "outputs": [
    {
     "data": {
      "text/html": [
       "<div>\n",
       "<style scoped>\n",
       "    .dataframe tbody tr th:only-of-type {\n",
       "        vertical-align: middle;\n",
       "    }\n",
       "\n",
       "    .dataframe tbody tr th {\n",
       "        vertical-align: top;\n",
       "    }\n",
       "\n",
       "    .dataframe thead th {\n",
       "        text-align: right;\n",
       "    }\n",
       "</style>\n",
       "<table border=\"1\" class=\"dataframe\">\n",
       "  <thead>\n",
       "    <tr style=\"text-align: right;\">\n",
       "      <th></th>\n",
       "      <th>IMDB</th>\n",
       "      <th>Name</th>\n",
       "      <th>Runtime (mins)</th>\n",
       "      <th>Genre</th>\n",
       "      <th>Rating</th>\n",
       "      <th>Votes</th>\n",
       "      <th>Description</th>\n",
       "      <th>Stars</th>\n",
       "      <th>Release_year</th>\n",
       "      <th>End_year</th>\n",
       "      <th>Episodes</th>\n",
       "      <th>Seasons</th>\n",
       "      <th>Distributor</th>\n",
       "      <th>Genres</th>\n",
       "      <th>Story</th>\n",
       "    </tr>\n",
       "  </thead>\n",
       "  <tbody>\n",
       "    <tr>\n",
       "      <th>0</th>\n",
       "      <td>8740790</td>\n",
       "      <td>Bridgerton</td>\n",
       "      <td>60.0</td>\n",
       "      <td>Drama, Romance</td>\n",
       "      <td>7.3</td>\n",
       "      <td>50357</td>\n",
       "      <td>Wealth, lust, and betrayal set against the...</td>\n",
       "      <td>Phoebe Dynevor, Regé-Jean Page, Nicola Coughla...</td>\n",
       "      <td>2020</td>\n",
       "      <td></td>\n",
       "      <td>9</td>\n",
       "      <td>2</td>\n",
       "      <td>Netflix</td>\n",
       "      <td>Drama ,Romance</td>\n",
       "      <td>Wealth, lust, and betrayal set against the bac...</td>\n",
       "    </tr>\n",
       "    <tr>\n",
       "      <th>1</th>\n",
       "      <td>7221388</td>\n",
       "      <td>Cobra Kai</td>\n",
       "      <td>30.0</td>\n",
       "      <td>Action, Comedy, Drama</td>\n",
       "      <td>8.6</td>\n",
       "      <td>104807</td>\n",
       "      <td>Decades after their 1984 All Valley Karate...</td>\n",
       "      <td>Ralph Macchio, William Zabka, Xolo Maridueña, ...</td>\n",
       "      <td>2018</td>\n",
       "      <td></td>\n",
       "      <td>33</td>\n",
       "      <td>4</td>\n",
       "      <td>Netflix</td>\n",
       "      <td>Action ,Comedy ,Drama ,Sport</td>\n",
       "      <td>Thirty years after their final confrontation a...</td>\n",
       "    </tr>\n",
       "  </tbody>\n",
       "</table>\n",
       "</div>"
      ],
      "text/plain": [
       "      IMDB        Name  Runtime (mins)                              Genre  \\\n",
       "0  8740790  Bridgerton            60.0         Drama, Romance               \n",
       "1  7221388   Cobra Kai            30.0  Action, Comedy, Drama               \n",
       "\n",
       "   Rating   Votes                                        Description  \\\n",
       "0     7.3   50357      Wealth, lust, and betrayal set against the...   \n",
       "1     8.6  104807      Decades after their 1984 All Valley Karate...   \n",
       "\n",
       "                                               Stars Release_year End_year  \\\n",
       "0  Phoebe Dynevor, Regé-Jean Page, Nicola Coughla...         2020            \n",
       "1  Ralph Macchio, William Zabka, Xolo Maridueña, ...         2018            \n",
       "\n",
       "   Episodes Seasons Distributor                        Genres  \\\n",
       "0         9       2     Netflix                Drama ,Romance   \n",
       "1        33       4     Netflix  Action ,Comedy ,Drama ,Sport   \n",
       "\n",
       "                                               Story  \n",
       "0  Wealth, lust, and betrayal set against the bac...  \n",
       "1  Thirty years after their final confrontation a...  "
      ]
     },
     "execution_count": 40,
     "metadata": {},
     "output_type": "execute_result"
    }
   ],
   "source": [
    "df['Genres'] = df['IMDB'].map(genre)\n",
    "df['Story'] = df['IMDB'].map(story)\n",
    "df['Genres'] = df['Genres'].str.replace(' ',\"\").str.replace('\\n',\"\")\n",
    "df.head(2)"
   ]
  },
  {
   "cell_type": "code",
   "execution_count": 5,
   "metadata": {},
   "outputs": [],
   "source": [
    "df.to_csv(\"Saved CSVs/tv_series_2000_2020_FINAL_DIRTY.csv\", index=False)"
   ]
  },
  {
   "cell_type": "code",
   "execution_count": 6,
   "metadata": {},
   "outputs": [
    {
     "data": {
      "text/html": [
       "<div>\n",
       "<style scoped>\n",
       "    .dataframe tbody tr th:only-of-type {\n",
       "        vertical-align: middle;\n",
       "    }\n",
       "\n",
       "    .dataframe tbody tr th {\n",
       "        vertical-align: top;\n",
       "    }\n",
       "\n",
       "    .dataframe thead th {\n",
       "        text-align: right;\n",
       "    }\n",
       "</style>\n",
       "<table border=\"1\" class=\"dataframe\">\n",
       "  <thead>\n",
       "    <tr style=\"text-align: right;\">\n",
       "      <th></th>\n",
       "      <th>IMDB</th>\n",
       "      <th>Name</th>\n",
       "      <th>Runtime (mins)</th>\n",
       "      <th>Genre</th>\n",
       "      <th>Rating</th>\n",
       "      <th>Votes</th>\n",
       "      <th>Description</th>\n",
       "      <th>Stars</th>\n",
       "      <th>Release_year</th>\n",
       "      <th>End_year</th>\n",
       "      <th>Episodes</th>\n",
       "      <th>Seasons</th>\n",
       "      <th>Distributor</th>\n",
       "      <th>Genres</th>\n",
       "      <th>Story</th>\n",
       "      <th>Certificate</th>\n",
       "    </tr>\n",
       "  </thead>\n",
       "  <tbody>\n",
       "    <tr>\n",
       "      <th>0</th>\n",
       "      <td>8740790</td>\n",
       "      <td>Bridgerton</td>\n",
       "      <td>60.0</td>\n",
       "      <td>Drama, Romance</td>\n",
       "      <td>7.3</td>\n",
       "      <td>50357</td>\n",
       "      <td>Wealth, lust, and betrayal set against the...</td>\n",
       "      <td>Phoebe Dynevor, Regé-Jean Page, Nicola Coughla...</td>\n",
       "      <td>2020</td>\n",
       "      <td></td>\n",
       "      <td>9</td>\n",
       "      <td>2</td>\n",
       "      <td>Netflix</td>\n",
       "      <td>Drama ,Romance</td>\n",
       "      <td>Wealth, lust, and betrayal set against the bac...</td>\n",
       "      <td>TV-MA</td>\n",
       "    </tr>\n",
       "    <tr>\n",
       "      <th>1</th>\n",
       "      <td>7221388</td>\n",
       "      <td>Cobra Kai</td>\n",
       "      <td>30.0</td>\n",
       "      <td>Action, Comedy, Drama</td>\n",
       "      <td>8.6</td>\n",
       "      <td>104807</td>\n",
       "      <td>Decades after their 1984 All Valley Karate...</td>\n",
       "      <td>Ralph Macchio, William Zabka, Xolo Maridueña, ...</td>\n",
       "      <td>2018</td>\n",
       "      <td></td>\n",
       "      <td>33</td>\n",
       "      <td>4</td>\n",
       "      <td>Netflix</td>\n",
       "      <td>Action ,Comedy ,Drama ,Sport</td>\n",
       "      <td>Thirty years after their final confrontation a...</td>\n",
       "      <td>TV-14</td>\n",
       "    </tr>\n",
       "    <tr>\n",
       "      <th>2</th>\n",
       "      <td>8111088</td>\n",
       "      <td>The Mandalorian</td>\n",
       "      <td>40.0</td>\n",
       "      <td>Action, Adventure, Sci-Fi</td>\n",
       "      <td>8.8</td>\n",
       "      <td>281712</td>\n",
       "      <td>The travels of a lone bounty hunter in the...</td>\n",
       "      <td>Pedro Pascal, Gina Carano, Giancarlo Esposito,...</td>\n",
       "      <td>2019</td>\n",
       "      <td></td>\n",
       "      <td>24</td>\n",
       "      <td>3</td>\n",
       "      <td>Disney+</td>\n",
       "      <td>Action ,Adventure ,Sci-Fi</td>\n",
       "      <td>After the stories of Jango and Boba Fett, anot...</td>\n",
       "      <td>TV-14</td>\n",
       "    </tr>\n",
       "    <tr>\n",
       "      <th>3</th>\n",
       "      <td>4477976</td>\n",
       "      <td>Superstore</td>\n",
       "      <td>22.0</td>\n",
       "      <td>Comedy</td>\n",
       "      <td>7.8</td>\n",
       "      <td>23192</td>\n",
       "      <td>A look at the lives of employees at a big ...</td>\n",
       "      <td>Ben Feldman, Lauren Ash, Colton Dunn, Nico Santos</td>\n",
       "      <td>2015</td>\n",
       "      <td></td>\n",
       "      <td>113</td>\n",
       "      <td>6</td>\n",
       "      <td>National Broadcasting Company</td>\n",
       "      <td>Comedy</td>\n",
       "      <td>A look at the lives of employees at a big box ...</td>\n",
       "      <td>TV-14</td>\n",
       "    </tr>\n",
       "    <tr>\n",
       "      <th>4</th>\n",
       "      <td>944947</td>\n",
       "      <td>Game of Thrones</td>\n",
       "      <td>57.0</td>\n",
       "      <td>Action, Adventure, Drama</td>\n",
       "      <td>9.3</td>\n",
       "      <td>1763644</td>\n",
       "      <td>Nine noble families fight for control over...</td>\n",
       "      <td>Emilia Clarke, Peter Dinklage, Kit Harington, ...</td>\n",
       "      <td>2011</td>\n",
       "      <td>2019</td>\n",
       "      <td>73</td>\n",
       "      <td>8</td>\n",
       "      <td>Home Box Office</td>\n",
       "      <td>Action ,Adventure ,Drama ,Fantasy</td>\n",
       "      <td>In the mythical continent of Westeros, several...</td>\n",
       "      <td>TV-MA</td>\n",
       "    </tr>\n",
       "  </tbody>\n",
       "</table>\n",
       "</div>"
      ],
      "text/plain": [
       "      IMDB             Name  Runtime (mins)  \\\n",
       "0  8740790       Bridgerton            60.0   \n",
       "1  7221388        Cobra Kai            30.0   \n",
       "2  8111088  The Mandalorian            40.0   \n",
       "3  4477976       Superstore            22.0   \n",
       "4   944947  Game of Thrones            57.0   \n",
       "\n",
       "                                   Genre  Rating    Votes  \\\n",
       "0             Drama, Romance                 7.3    50357   \n",
       "1      Action, Comedy, Drama                 8.6   104807   \n",
       "2  Action, Adventure, Sci-Fi                 8.8   281712   \n",
       "3                     Comedy                 7.8    23192   \n",
       "4   Action, Adventure, Drama                 9.3  1763644   \n",
       "\n",
       "                                         Description  \\\n",
       "0      Wealth, lust, and betrayal set against the...   \n",
       "1      Decades after their 1984 All Valley Karate...   \n",
       "2      The travels of a lone bounty hunter in the...   \n",
       "3      A look at the lives of employees at a big ...   \n",
       "4      Nine noble families fight for control over...   \n",
       "\n",
       "                                               Stars  Release_year End_year  \\\n",
       "0  Phoebe Dynevor, Regé-Jean Page, Nicola Coughla...          2020            \n",
       "1  Ralph Macchio, William Zabka, Xolo Maridueña, ...          2018            \n",
       "2  Pedro Pascal, Gina Carano, Giancarlo Esposito,...          2019            \n",
       "3  Ben Feldman, Lauren Ash, Colton Dunn, Nico Santos          2015            \n",
       "4  Emilia Clarke, Peter Dinklage, Kit Harington, ...          2011     2019   \n",
       "\n",
       "   Episodes Seasons                    Distributor  \\\n",
       "0         9       2                        Netflix   \n",
       "1        33       4                        Netflix   \n",
       "2        24       3                        Disney+   \n",
       "3       113       6  National Broadcasting Company   \n",
       "4        73       8                Home Box Office   \n",
       "\n",
       "                              Genres  \\\n",
       "0                     Drama ,Romance   \n",
       "1       Action ,Comedy ,Drama ,Sport   \n",
       "2          Action ,Adventure ,Sci-Fi   \n",
       "3                             Comedy   \n",
       "4  Action ,Adventure ,Drama ,Fantasy   \n",
       "\n",
       "                                               Story Certificate  \n",
       "0  Wealth, lust, and betrayal set against the bac...       TV-MA  \n",
       "1  Thirty years after their final confrontation a...       TV-14  \n",
       "2  After the stories of Jango and Boba Fett, anot...       TV-14  \n",
       "3  A look at the lives of employees at a big box ...       TV-14  \n",
       "4  In the mythical continent of Westeros, several...       TV-MA  "
      ]
     },
     "execution_count": 6,
     "metadata": {},
     "output_type": "execute_result"
    }
   ],
   "source": [
    "df = pd.read_csv('Saved CSVs/tv_series_2000_2020_FINAL_DIRTY.csv')\n",
    "df.head()"
   ]
  },
  {
   "cell_type": "code",
   "execution_count": null,
   "metadata": {},
   "outputs": [],
   "source": []
  }
 ],
 "metadata": {
  "kernelspec": {
   "display_name": "Python 3",
   "language": "python",
   "name": "python3"
  },
  "language_info": {
   "codemirror_mode": {
    "name": "ipython",
    "version": 3
   },
   "file_extension": ".py",
   "mimetype": "text/x-python",
   "name": "python",
   "nbconvert_exporter": "python",
   "pygments_lexer": "ipython3",
   "version": "3.7.6"
  }
 },
 "nbformat": 4,
 "nbformat_minor": 2
}
