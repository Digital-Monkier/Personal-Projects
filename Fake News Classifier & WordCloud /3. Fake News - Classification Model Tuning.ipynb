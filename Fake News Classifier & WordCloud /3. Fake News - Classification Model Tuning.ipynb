{
 "cells": [
  {
   "cell_type": "markdown",
   "metadata": {},
   "source": [
    "# 3. Fake News - Classification Model Tuning\n",
    "In this project we're going to quickly load a dataset called Real_or_Fake_News and run a through a simple classification modelling process and then tune some basic huperparameters. \n",
    "\n",
    "The data consists of news headlines and articles which we explored in part 1. In this case we are training and comparing results from two models (MultinomialNB and LogisticRegression) on the text column. \n",
    "\n",
    "Unlike part 2. we are using GridSearch, Cross_val and a custom scorer for a more thorough model validation in this execise."
   ]
  },
  {
   "cell_type": "code",
   "execution_count": 23,
   "metadata": {},
   "outputs": [
    {
     "name": "stdout",
     "output_type": "stream",
     "text": [
      "<class 'pandas.core.frame.DataFrame'>\n",
      "RangeIndex: 6335 entries, 0 to 6334\n",
      "Data columns (total 4 columns):\n",
      " #   Column      Non-Null Count  Dtype \n",
      "---  ------      --------------  ----- \n",
      " 0   Unnamed: 0  6335 non-null   int64 \n",
      " 1   title       6335 non-null   object\n",
      " 2   text        6335 non-null   object\n",
      " 3   label       6335 non-null   object\n",
      "dtypes: int64(1), object(3)\n",
      "memory usage: 198.1+ KB\n",
      "None\n"
     ]
    },
    {
     "data": {
      "text/html": [
       "<div>\n",
       "<style scoped>\n",
       "    .dataframe tbody tr th:only-of-type {\n",
       "        vertical-align: middle;\n",
       "    }\n",
       "\n",
       "    .dataframe tbody tr th {\n",
       "        vertical-align: top;\n",
       "    }\n",
       "\n",
       "    .dataframe thead th {\n",
       "        text-align: right;\n",
       "    }\n",
       "</style>\n",
       "<table border=\"1\" class=\"dataframe\">\n",
       "  <thead>\n",
       "    <tr style=\"text-align: right;\">\n",
       "      <th></th>\n",
       "      <th>Unnamed: 0</th>\n",
       "      <th>title</th>\n",
       "      <th>text</th>\n",
       "      <th>label</th>\n",
       "    </tr>\n",
       "  </thead>\n",
       "  <tbody>\n",
       "    <tr>\n",
       "      <th>0</th>\n",
       "      <td>8476</td>\n",
       "      <td>You Can Smell Hillary’s Fear</td>\n",
       "      <td>Daniel Greenfield, a Shillman Journalism Fellow at the Freedom Center, is a New York writer focu...</td>\n",
       "      <td>FAKE</td>\n",
       "    </tr>\n",
       "    <tr>\n",
       "      <th>1</th>\n",
       "      <td>10294</td>\n",
       "      <td>Watch The Exact Moment Paul Ryan Committed Political Suicide At A Trump Rally (VIDEO)</td>\n",
       "      <td>Google Pinterest Digg Linkedin Reddit Stumbleupon Print Delicious Pocket Tumblr \\nThere are two ...</td>\n",
       "      <td>FAKE</td>\n",
       "    </tr>\n",
       "    <tr>\n",
       "      <th>2</th>\n",
       "      <td>3608</td>\n",
       "      <td>Kerry to go to Paris in gesture of sympathy</td>\n",
       "      <td>U.S. Secretary of State John F. Kerry said Monday that he will stop in Paris later this week, am...</td>\n",
       "      <td>REAL</td>\n",
       "    </tr>\n",
       "    <tr>\n",
       "      <th>3</th>\n",
       "      <td>10142</td>\n",
       "      <td>Bernie supporters on Twitter erupt in anger against the DNC: 'We tried to warn you!'</td>\n",
       "      <td>— Kaydee King (@KaydeeKing) November 9, 2016 The lesson from tonight's Dem losses: Time for Demo...</td>\n",
       "      <td>FAKE</td>\n",
       "    </tr>\n",
       "    <tr>\n",
       "      <th>4</th>\n",
       "      <td>875</td>\n",
       "      <td>The Battle of New York: Why This Primary Matters</td>\n",
       "      <td>It's primary day in New York and front-runners Hillary Clinton and Donald Trump are leading in t...</td>\n",
       "      <td>REAL</td>\n",
       "    </tr>\n",
       "  </tbody>\n",
       "</table>\n",
       "</div>"
      ],
      "text/plain": [
       "   Unnamed: 0  \\\n",
       "0        8476   \n",
       "1       10294   \n",
       "2        3608   \n",
       "3       10142   \n",
       "4         875   \n",
       "\n",
       "                                                                                   title  \\\n",
       "0                                                           You Can Smell Hillary’s Fear   \n",
       "1  Watch The Exact Moment Paul Ryan Committed Political Suicide At A Trump Rally (VIDEO)   \n",
       "2                                            Kerry to go to Paris in gesture of sympathy   \n",
       "3   Bernie supporters on Twitter erupt in anger against the DNC: 'We tried to warn you!'   \n",
       "4                                       The Battle of New York: Why This Primary Matters   \n",
       "\n",
       "                                                                                                  text  \\\n",
       "0  Daniel Greenfield, a Shillman Journalism Fellow at the Freedom Center, is a New York writer focu...   \n",
       "1  Google Pinterest Digg Linkedin Reddit Stumbleupon Print Delicious Pocket Tumblr \\nThere are two ...   \n",
       "2  U.S. Secretary of State John F. Kerry said Monday that he will stop in Paris later this week, am...   \n",
       "3  — Kaydee King (@KaydeeKing) November 9, 2016 The lesson from tonight's Dem losses: Time for Demo...   \n",
       "4  It's primary day in New York and front-runners Hillary Clinton and Donald Trump are leading in t...   \n",
       "\n",
       "  label  \n",
       "0  FAKE  \n",
       "1  FAKE  \n",
       "2  REAL  \n",
       "3  FAKE  \n",
       "4  REAL  "
      ]
     },
     "execution_count": 23,
     "metadata": {},
     "output_type": "execute_result"
    }
   ],
   "source": [
    "#Quick inspection of the data\n",
    "import pandas as pd\n",
    "pd.set_option('display.max_colwidth', 100) \n",
    "\n",
    "\n",
    "df = pd.read_csv('fake_or_real_news.csv')\n",
    "\n",
    "print(df.info())\n",
    "df.head()"
   ]
  },
  {
   "cell_type": "code",
   "execution_count": 24,
   "metadata": {},
   "outputs": [],
   "source": [
    "# Encoding the labels\n",
    "df['label'] = df['label'].replace('FAKE', 1)\n",
    "df['label'] = df['label'].replace('REAL', 0)"
   ]
  },
  {
   "cell_type": "code",
   "execution_count": null,
   "metadata": {},
   "outputs": [],
   "source": [
    "# Setting fetures X and labels y\n",
    "X = df['text'] # +' '+ df['text'] \n",
    "y = df['label']\n",
    "\n",
    "# Import TfidfVectorizer\n",
    "from sklearn.feature_extraction.text import TfidfVectorizer\n",
    "\n",
    "# Initialize two TfidfVectorizers object: basic and tuned \n",
    "tuned_tfidf = TfidfVectorizer(stop_words='english', max_df=0.5,\n",
    "                                   max_features=25000, ngram_range=(2,2))\n",
    "\n",
    "# Transform the data \n",
    "tfidf_fit = tuned_tfidf.fit_transform(X)\n",
    "\n",
    "# Create the DataFrames\n",
    "X = pd.DataFrame(tfidf_fit.toarray(), columns=tuned_tfidf.get_feature_names())"
   ]
  },
  {
   "cell_type": "code",
   "execution_count": null,
   "metadata": {},
   "outputs": [],
   "source": [
    "print(X.shape)\n",
    "print(y.shape)"
   ]
  },
  {
   "cell_type": "markdown",
   "metadata": {},
   "source": [
    "### Time to model"
   ]
  },
  {
   "cell_type": "code",
   "execution_count": null,
   "metadata": {},
   "outputs": [],
   "source": [
    "import numpy as np\n",
    "import seaborn as sns\n",
    "from sklearn.svm import SVC\n",
    "from sklearn.naive_bayes import MultinomialNB\n",
    "from sklearn.linear_model import LogisticRegression\n",
    "from sklearn.metrics import classification_report, make_scorer, accuracy_score\n",
    "from sklearn.model_selection import cross_val_score, KFold\n",
    "from sklearn.preprocessing import StandardScaler"
   ]
  },
  {
   "cell_type": "code",
   "execution_count": null,
   "metadata": {},
   "outputs": [],
   "source": [
    "# Step 2 use a dictionary of key(model name):value(instantiated)pairs to instantiate the models\n",
    "def get_models():\n",
    "    # Empty dict to \n",
    "    models = {}\n",
    "    \n",
    "    models['MNB'] = MultinomialNB()\n",
    "    models['LGR'] = LogisticRegression()\n",
    "    models['SVC'] = SVC()\n",
    "    return models  "
   ]
  },
  {
   "cell_type": "code",
   "execution_count": 17,
   "metadata": {},
   "outputs": [],
   "source": [
    "models = get_models()"
   ]
  },
  {
   "cell_type": "markdown",
   "metadata": {},
   "source": [
    "### Custom scorer returns accuracy_score and also stores labels as arrays to load into a classification_report"
   ]
  },
  {
   "cell_type": "code",
   "execution_count": 21,
   "metadata": {},
   "outputs": [],
   "source": [
    "def custom_scoring(y, y_pred):\n",
    "    originalclass.extend(y)\n",
    "    preditedclass.extend(y_pred)\n",
    "    return accuracy_score(y, y_pred)"
   ]
  },
  {
   "cell_type": "code",
   "execution_count": 22,
   "metadata": {},
   "outputs": [
    {
     "ename": "SyntaxError",
     "evalue": "invalid syntax (<unknown>, line 2)",
     "output_type": "error",
     "traceback": [
      "Traceback \u001b[0;36m(most recent call last)\u001b[0m:\n",
      "  File \u001b[1;32m\"/Users/darragh/opt/anaconda3/lib/python3.7/site-packages/IPython/core/interactiveshell.py\"\u001b[0m, line \u001b[1;32m3331\u001b[0m, in \u001b[1;35mrun_code\u001b[0m\n    exec(code_obj, self.user_global_ns, self.user_ns)\n",
      "  File \u001b[1;32m\"<ipython-input-22-612ac7664bbf>\"\u001b[0m, line \u001b[1;32m1\u001b[0m, in \u001b[1;35m<module>\u001b[0m\n    get_ipython().run_cell_magic('time', '', \"originalclass = []\\npreditedclass = []http://localhost:8888/notebooks/Documents/GitHub/Personal-Projects/Fake%20News%20Classifier%20%26%20WordCloud%20/3.%20Fake%20News%20-%20Classification%20Model%20Tuning.ipynb#\\nresults = []\\nnames = []\\n\\nfor name, model in models.items():\\n    # Loading a 3 split KFold into cross val\\n    cv = KFold(n_splits=3)\\n    scores = cross_val_score(model, X, y, scoring= make_scorer(custom_scoring), cv=cv, n_jobs =1, error_score='raise')\\n    results.append(scores)\\n    names.append(name)\\n    print('>%s %.3f (%.3f)' % (name, np.mean(scores), np.std(scores)))\\n\\nsns.boxplot(x=names, y=results, showmeans=True)\\n\")\n",
      "  File \u001b[1;32m\"/Users/darragh/opt/anaconda3/lib/python3.7/site-packages/IPython/core/interactiveshell.py\"\u001b[0m, line \u001b[1;32m2362\u001b[0m, in \u001b[1;35mrun_cell_magic\u001b[0m\n    result = fn(*args, **kwargs)\n",
      "  File \u001b[1;32m\"</Users/darragh/opt/anaconda3/lib/python3.7/site-packages/decorator.py:decorator-gen-61>\"\u001b[0m, line \u001b[1;32m2\u001b[0m, in \u001b[1;35mtime\u001b[0m\n",
      "  File \u001b[1;32m\"/Users/darragh/opt/anaconda3/lib/python3.7/site-packages/IPython/core/magic.py\"\u001b[0m, line \u001b[1;32m187\u001b[0m, in \u001b[1;35m<lambda>\u001b[0m\n    call = lambda f, *a, **k: f(*a, **k)\n",
      "  File \u001b[1;32m\"/Users/darragh/opt/anaconda3/lib/python3.7/site-packages/IPython/core/magics/execution.py\"\u001b[0m, line \u001b[1;32m1268\u001b[0m, in \u001b[1;35mtime\u001b[0m\n    expr_ast = self.shell.compile.ast_parse(expr)\n",
      "\u001b[0;36m  File \u001b[0;32m\"/Users/darragh/opt/anaconda3/lib/python3.7/site-packages/IPython/core/compilerop.py\"\u001b[0;36m, line \u001b[0;32m101\u001b[0;36m, in \u001b[0;35mast_parse\u001b[0;36m\u001b[0m\n\u001b[0;31m    return compile(source, filename, symbol, self.flags | PyCF_ONLY_AST, 1)\u001b[0m\n",
      "\u001b[0;36m  File \u001b[0;32m\"<unknown>\"\u001b[0;36m, line \u001b[0;32m2\u001b[0m\n\u001b[0;31m    preditedclass = []http://localhost:8888/notebooks/Documents/GitHub/Personal-Projects/Fake%20News%20Classifier%20%26%20WordCloud%20/3.%20Fake%20News%20-%20Classification%20Model%20Tuning.ipynb#\u001b[0m\n\u001b[0m                         ^\u001b[0m\n\u001b[0;31mSyntaxError\u001b[0m\u001b[0;31m:\u001b[0m invalid syntax\n"
     ]
    }
   ],
   "source": [
    "%%time\n",
    "originalclass = []\n",
    "preditedclass = []http://localhost:8888/notebooks/Documents/GitHub/Personal-Projects/Fake%20News%20Classifier%20%26%20WordCloud%20/3.%20Fake%20News%20-%20Classification%20Model%20Tuning.ipynb#\n",
    "results = []\n",
    "names = []\n",
    "\n",
    "for name, model in models.items():\n",
    "    # Loading a 3 split KFold into cross val\n",
    "    cv = KFold(n_splits=3)\n",
    "    scores = cross_val_score(model, X, y, scoring= make_scorer(custom_scoring), cv=cv, n_jobs =1, error_score='raise')\n",
    "    results.append(scores)\n",
    "    names.append(name)\n",
    "    print('>%s %.3f (%.3f)' % (name, np.mean(scores), np.std(scores)))\n",
    "\n",
    "sns.boxplot(x=names, y=results, showmeans=True)"
   ]
  },
  {
   "cell_type": "code",
   "execution_count": 20,
   "metadata": {},
   "outputs": [
    {
     "ename": "NameError",
     "evalue": "name 'originalclass' is not defined",
     "output_type": "error",
     "traceback": [
      "\u001b[0;31m---------------------------------------------------------------------------\u001b[0m",
      "\u001b[0;31mNameError\u001b[0m                                 Traceback (most recent call last)",
      "\u001b[0;32m<ipython-input-20-bbdd34052781>\u001b[0m in \u001b[0;36m<module>\u001b[0;34m\u001b[0m\n\u001b[0;32m----> 1\u001b[0;31m \u001b[0mlen\u001b[0m\u001b[0;34m(\u001b[0m\u001b[0moriginalclass\u001b[0m\u001b[0;34m)\u001b[0m\u001b[0;34m\u001b[0m\u001b[0;34m\u001b[0m\u001b[0m\n\u001b[0m",
      "\u001b[0;31mNameError\u001b[0m: name 'originalclass' is not defined"
     ]
    }
   ],
   "source": [
    "len(originalclass)"
   ]
  },
  {
   "cell_type": "code",
   "execution_count": 114,
   "metadata": {},
   "outputs": [
    {
     "name": "stdout",
     "output_type": "stream",
     "text": [
      "              precision    recall  f1-score   support\n",
      "\n",
      "           0       0.90      0.94      0.92      3171\n",
      "           1       0.94      0.89      0.92      3165\n",
      "\n",
      "    accuracy                           0.92      6336\n",
      "   macro avg       0.92      0.92      0.92      6336\n",
      "weighted avg       0.92      0.92      0.92      6336\n",
      "\n",
      "              precision    recall  f1-score   support\n",
      "\n",
      "           0       0.95      0.88      0.91      3171\n",
      "           1       0.89      0.95      0.92      3164\n",
      "\n",
      "    accuracy                           0.92      6335\n",
      "   macro avg       0.92      0.92      0.92      6335\n",
      "weighted avg       0.92      0.92      0.92      6335\n",
      "\n"
     ]
    }
   ],
   "source": [
    "print(classification_report(originalclass[:6336], preditedclass[:6336]))\n",
    "print(classification_report(originalclass[6335:12671], preditedclass[6335:12671]))"
   ]
  },
  {
   "cell_type": "markdown",
   "metadata": {},
   "source": [
    "### Let's dig a little deeper with GridSearchCV and Cross Val"
   ]
  },
  {
   "cell_type": "code",
   "execution_count": 123,
   "metadata": {},
   "outputs": [],
   "source": [
    "from sklearn.model_selection import GridSearchCV\n",
    "\n",
    "MNB_param_grid = {'alpha': np.arange(0.1,1,0.1)}\n",
    "\n",
    "LGR_param_grid = {'max_iter': [200],\n",
    "                  'solver': ['lbfgs', 'liblinear'],\n",
    "                   'C': np.arange(0.1, 1, 0.2)}"
   ]
  },
  {
   "cell_type": "code",
   "execution_count": 121,
   "metadata": {},
   "outputs": [
    {
     "name": "stdout",
     "output_type": "stream",
     "text": [
      "[0.93108974 0.91983806 0.91800643 0.91368078 0.90805533]\n",
      "MultinomialNB(alpha=0.2)\n",
      "CPU times: user 5min 30s, sys: 1min 33s, total: 7min 3s\n",
      "Wall time: 5min 48s\n"
     ]
    }
   ],
   "source": [
    "%%time\n",
    "\n",
    "gridsearch = GridSearchCV(models['MNB'], MNB_param_grid, n_jobs=1, scoring='f1')\n",
    "gridsearch.fit(X, y) \n",
    "cv_scores = cross_val_score(gridsearch, X, y)\n",
    "print(cv_scores)\n",
    "print(gridsearch.best_estimator_)"
   ]
  },
  {
   "cell_type": "code",
   "execution_count": 124,
   "metadata": {},
   "outputs": [
    {
     "name": "stdout",
     "output_type": "stream",
     "text": [
      "[0.92645944 0.91527988 0.92940264 0.92785105 0.9164751 ]\n",
      "LogisticRegression(C=0.9000000000000001, max_iter=200, solver='liblinear')\n",
      "CPU times: user 16min 42s, sys: 1min 48s, total: 18min 31s\n",
      "Wall time: 12min 37s\n"
     ]
    }
   ],
   "source": [
    "%%time\n",
    "\n",
    "gridsearch = GridSearchCV(models['LGR'], LGR_param_grid, n_jobs=1, scoring='f1')\n",
    "gridsearch.fit(X, y) \n",
    "cv_scores = cross_val_score(gridsearch, X, y)\n",
    "print(cv_scores)\n",
    "print(gridsearch.best_estimator_)"
   ]
  },
  {
   "cell_type": "code",
   "execution_count": 118,
   "metadata": {},
   "outputs": [],
   "source": [
    "# gridsearch.cv_results_['split0_test_score']"
   ]
  }
 ],
 "metadata": {
  "kernelspec": {
   "display_name": "Python 3",
   "language": "python",
   "name": "python3"
  },
  "language_info": {
   "codemirror_mode": {
    "name": "ipython",
    "version": 3
   },
   "file_extension": ".py",
   "mimetype": "text/x-python",
   "name": "python",
   "nbconvert_exporter": "python",
   "pygments_lexer": "ipython3",
   "version": "3.7.6"
  }
 },
 "nbformat": 4,
 "nbformat_minor": 4
}
