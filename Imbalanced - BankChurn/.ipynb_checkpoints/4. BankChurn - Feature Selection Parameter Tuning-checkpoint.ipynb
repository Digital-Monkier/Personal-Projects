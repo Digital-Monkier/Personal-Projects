{
 "cells": [
  {
   "cell_type": "code",
   "execution_count": 193,
   "metadata": {
    "scrolled": true
   },
   "outputs": [
    {
     "name": "stdout",
     "output_type": "stream",
     "text": [
      "1    0.5\n",
      "0    0.5\n",
      "Name: Attrition_Flag, dtype: float64 \n",
      "\n",
      "<class 'pandas.core.frame.DataFrame'>\n",
      "RangeIndex: 17000 entries, 0 to 16999\n",
      "Data columns (total 20 columns):\n",
      " #   Column                    Non-Null Count  Dtype  \n",
      "---  ------                    --------------  -----  \n",
      " 0   Customer_Age              17000 non-null  float64\n",
      " 1   Gender                    17000 non-null  int64  \n",
      " 2   Dependent_count           17000 non-null  int64  \n",
      " 3   Education_Level           17000 non-null  int64  \n",
      " 4   Marital_Status            17000 non-null  int64  \n",
      " 5   Income_Category           17000 non-null  int64  \n",
      " 6   Card_Category             17000 non-null  int64  \n",
      " 7   Months_on_book            17000 non-null  float64\n",
      " 8   Total_Relationship_Count  17000 non-null  int64  \n",
      " 9   Months_Inactive_12_mon    17000 non-null  int64  \n",
      " 10  Contacts_Count_12_mon     17000 non-null  int64  \n",
      " 11  Credit_Limit              17000 non-null  float64\n",
      " 12  Total_Revolving_Bal       17000 non-null  float64\n",
      " 13  Avg_Open_To_Buy           17000 non-null  float64\n",
      " 14  Total_Amt_Chng_Q4_Q1      17000 non-null  float64\n",
      " 15  Total_Trans_Amt           17000 non-null  float64\n",
      " 16  Total_Trans_Ct            17000 non-null  float64\n",
      " 17  Total_Ct_Chng_Q4_Q1       17000 non-null  float64\n",
      " 18  Avg_Utilization_Ratio     17000 non-null  float64\n",
      " 19  Attrition_Flag            17000 non-null  int64  \n",
      "dtypes: float64(10), int64(10)\n",
      "memory usage: 2.6 MB\n"
     ]
    },
    {
     "data": {
      "text/html": [
       "<div>\n",
       "<style scoped>\n",
       "    .dataframe tbody tr th:only-of-type {\n",
       "        vertical-align: middle;\n",
       "    }\n",
       "\n",
       "    .dataframe tbody tr th {\n",
       "        vertical-align: top;\n",
       "    }\n",
       "\n",
       "    .dataframe thead th {\n",
       "        text-align: right;\n",
       "    }\n",
       "</style>\n",
       "<table border=\"1\" class=\"dataframe\">\n",
       "  <thead>\n",
       "    <tr style=\"text-align: right;\">\n",
       "      <th></th>\n",
       "      <th>Customer_Age</th>\n",
       "      <th>Gender</th>\n",
       "      <th>Dependent_count</th>\n",
       "      <th>Education_Level</th>\n",
       "      <th>Marital_Status</th>\n",
       "      <th>Income_Category</th>\n",
       "      <th>Card_Category</th>\n",
       "      <th>Months_on_book</th>\n",
       "      <th>Total_Relationship_Count</th>\n",
       "      <th>Months_Inactive_12_mon</th>\n",
       "      <th>Contacts_Count_12_mon</th>\n",
       "      <th>Credit_Limit</th>\n",
       "      <th>Total_Revolving_Bal</th>\n",
       "      <th>Avg_Open_To_Buy</th>\n",
       "      <th>Total_Amt_Chng_Q4_Q1</th>\n",
       "      <th>Total_Trans_Amt</th>\n",
       "      <th>Total_Trans_Ct</th>\n",
       "      <th>Total_Ct_Chng_Q4_Q1</th>\n",
       "      <th>Avg_Utilization_Ratio</th>\n",
       "      <th>Attrition_Flag</th>\n",
       "    </tr>\n",
       "  </thead>\n",
       "  <tbody>\n",
       "    <tr>\n",
       "      <th>0</th>\n",
       "      <td>-0.165406</td>\n",
       "      <td>0</td>\n",
       "      <td>3</td>\n",
       "      <td>0</td>\n",
       "      <td>0</td>\n",
       "      <td>0</td>\n",
       "      <td>0</td>\n",
       "      <td>0.384621</td>\n",
       "      <td>5</td>\n",
       "      <td>1</td>\n",
       "      <td>3</td>\n",
       "      <td>0.446622</td>\n",
       "      <td>-0.473422</td>\n",
       "      <td>0.488971</td>\n",
       "      <td>1.335</td>\n",
       "      <td>-0.959707</td>\n",
       "      <td>-0.973895</td>\n",
       "      <td>1.625</td>\n",
       "      <td>0.061</td>\n",
       "      <td>0</td>\n",
       "    </tr>\n",
       "    <tr>\n",
       "      <th>1</th>\n",
       "      <td>0.333570</td>\n",
       "      <td>1</td>\n",
       "      <td>5</td>\n",
       "      <td>1</td>\n",
       "      <td>1</td>\n",
       "      <td>1</td>\n",
       "      <td>0</td>\n",
       "      <td>1.010715</td>\n",
       "      <td>6</td>\n",
       "      <td>1</td>\n",
       "      <td>2</td>\n",
       "      <td>-0.041367</td>\n",
       "      <td>-0.366667</td>\n",
       "      <td>-0.008486</td>\n",
       "      <td>1.541</td>\n",
       "      <td>-0.916433</td>\n",
       "      <td>-1.357340</td>\n",
       "      <td>3.714</td>\n",
       "      <td>0.105</td>\n",
       "      <td>0</td>\n",
       "    </tr>\n",
       "    <tr>\n",
       "      <th>2</th>\n",
       "      <td>0.583058</td>\n",
       "      <td>0</td>\n",
       "      <td>3</td>\n",
       "      <td>1</td>\n",
       "      <td>0</td>\n",
       "      <td>2</td>\n",
       "      <td>0</td>\n",
       "      <td>0.008965</td>\n",
       "      <td>4</td>\n",
       "      <td>1</td>\n",
       "      <td>0</td>\n",
       "      <td>-0.573698</td>\n",
       "      <td>-1.426858</td>\n",
       "      <td>-0.445658</td>\n",
       "      <td>2.594</td>\n",
       "      <td>-0.740982</td>\n",
       "      <td>-1.911206</td>\n",
       "      <td>2.333</td>\n",
       "      <td>0.000</td>\n",
       "      <td>0</td>\n",
       "    </tr>\n",
       "    <tr>\n",
       "      <th>3</th>\n",
       "      <td>-0.789126</td>\n",
       "      <td>1</td>\n",
       "      <td>4</td>\n",
       "      <td>0</td>\n",
       "      <td>2</td>\n",
       "      <td>1</td>\n",
       "      <td>0</td>\n",
       "      <td>-0.241473</td>\n",
       "      <td>3</td>\n",
       "      <td>4</td>\n",
       "      <td>1</td>\n",
       "      <td>-0.585251</td>\n",
       "      <td>1.661686</td>\n",
       "      <td>-0.734100</td>\n",
       "      <td>1.405</td>\n",
       "      <td>-0.951758</td>\n",
       "      <td>-1.911206</td>\n",
       "      <td>2.333</td>\n",
       "      <td>0.760</td>\n",
       "      <td>0</td>\n",
       "    </tr>\n",
       "    <tr>\n",
       "      <th>4</th>\n",
       "      <td>-0.789126</td>\n",
       "      <td>0</td>\n",
       "      <td>3</td>\n",
       "      <td>2</td>\n",
       "      <td>0</td>\n",
       "      <td>0</td>\n",
       "      <td>0</td>\n",
       "      <td>-1.869317</td>\n",
       "      <td>5</td>\n",
       "      <td>1</td>\n",
       "      <td>0</td>\n",
       "      <td>-0.430877</td>\n",
       "      <td>-1.426858</td>\n",
       "      <td>-0.302868</td>\n",
       "      <td>2.175</td>\n",
       "      <td>-1.056263</td>\n",
       "      <td>-1.570365</td>\n",
       "      <td>2.500</td>\n",
       "      <td>0.000</td>\n",
       "      <td>0</td>\n",
       "    </tr>\n",
       "  </tbody>\n",
       "</table>\n",
       "</div>"
      ],
      "text/plain": [
       "   Customer_Age  Gender  Dependent_count  Education_Level  Marital_Status  Income_Category  Card_Category  Months_on_book  Total_Relationship_Count  Months_Inactive_12_mon  Contacts_Count_12_mon  Credit_Limit  Total_Revolving_Bal  Avg_Open_To_Buy  Total_Amt_Chng_Q4_Q1  Total_Trans_Amt  Total_Trans_Ct  Total_Ct_Chng_Q4_Q1  Avg_Utilization_Ratio  Attrition_Flag\n",
       "0     -0.165406       0                3                0               0                0              0        0.384621                         5                       1                      3      0.446622            -0.473422         0.488971                 1.335        -0.959707       -0.973895                1.625                  0.061               0\n",
       "1      0.333570       1                5                1               1                1              0        1.010715                         6                       1                      2     -0.041367            -0.366667        -0.008486                 1.541        -0.916433       -1.357340                3.714                  0.105               0\n",
       "2      0.583058       0                3                1               0                2              0        0.008965                         4                       1                      0     -0.573698            -1.426858        -0.445658                 2.594        -0.740982       -1.911206                2.333                  0.000               0\n",
       "3     -0.789126       1                4                0               2                1              0       -0.241473                         3                       4                      1     -0.585251             1.661686        -0.734100                 1.405        -0.951758       -1.911206                2.333                  0.760               0\n",
       "4     -0.789126       0                3                2               0                0              0       -1.869317                         5                       1                      0     -0.430877            -1.426858        -0.302868                 2.175        -1.056263       -1.570365                2.500                  0.000               0"
      ]
     },
     "execution_count": 193,
     "metadata": {},
     "output_type": "execute_result"
    }
   ],
   "source": [
    "import pandas as pd\n",
    "import numpy as np \n",
    "import matplotlib.pyplot as plt\n",
    "import seaborn as sns\n",
    "import xgboost\n",
    "from sklearn.model_selection import train_test_split, cross_val_score, StratifiedKFold, GridSearchCV, RandomizedSearchCV\n",
    "from sklearn.ensemble import RandomForestClassifier\n",
    "from sklearn.feature_selection import SelectFromModel\n",
    "from sklearn.metrics import accuracy_score, classification_report, make_scorer\n",
    "from sklearn.feature_selection import RFE\n",
    "from sklearn.ensemble import GradientBoostingClassifier\n",
    "\n",
    "\n",
    "\n",
    "\n",
    "df_smote = pd.read_csv('data/BankChurn_Smote.csv')\n",
    "pd.set_option('display.width', 500)\n",
    "pd.set_option('display.max_columns', 500)\n",
    "\n",
    "print(df_smote['Attrition_Flag'].value_counts() / len(df_smote['Attrition_Flag']), '\\n')\n",
    "df_smote.info()\n",
    "df_smote.head()"
   ]
  },
  {
   "cell_type": "code",
   "execution_count": 93,
   "metadata": {},
   "outputs": [],
   "source": [
    "X = df_smote.drop('Attrition_Flag', axis='columns')\n",
    "y = df_smote['Attrition_Flag']"
   ]
  },
  {
   "cell_type": "code",
   "execution_count": 94,
   "metadata": {},
   "outputs": [
    {
     "name": "stdout",
     "output_type": "stream",
     "text": [
      "(12750, 19) (4250, 19)\n"
     ]
    }
   ],
   "source": [
    "X_train, X_test, y_train, y_test = train_test_split(X, y, test_size = 0.25, random_state = 32, stratify = y)\n",
    "print(X_train.shape, X_test.shape)"
   ]
  },
  {
   "cell_type": "markdown",
   "metadata": {},
   "source": [
    "# Feature importance \n",
    "Selectin features using sklearn SelectFromModel feature selection. Earlier EDA of data pointed towards teh following columns as being the most suited for idenitying the classes\n",
    "* Total_Relationship_Count\n",
    "* Months_Inactive_12_mon\n",
    "* Contacts_Count_12_mon\n",
    "* Total_Revolving_Bal\n",
    "* Total_Trans_Amt\n",
    "* Total_Trans_Ct\n",
    "* Total_Ct_Chng_Q4_Q1\n",
    "* Avg_Utilization_Ratio\n"
   ]
  },
  {
   "cell_type": "code",
   "execution_count": 95,
   "metadata": {},
   "outputs": [
    {
     "data": {
      "text/plain": [
       "{'Customer_Age': False,\n",
       " 'Gender': False,\n",
       " 'Dependent_count': False,\n",
       " 'Education_Level': False,\n",
       " 'Marital_Status': False,\n",
       " 'Income_Category': False,\n",
       " 'Card_Category': False,\n",
       " 'Months_on_book': False,\n",
       " 'Total_Relationship_Count': True,\n",
       " 'Months_Inactive_12_mon': False,\n",
       " 'Contacts_Count_12_mon': False,\n",
       " 'Credit_Limit': False,\n",
       " 'Total_Revolving_Bal': True,\n",
       " 'Avg_Open_To_Buy': False,\n",
       " 'Total_Amt_Chng_Q4_Q1': True,\n",
       " 'Total_Trans_Amt': True,\n",
       " 'Total_Trans_Ct': True,\n",
       " 'Total_Ct_Chng_Q4_Q1': True,\n",
       " 'Avg_Utilization_Ratio': False}"
      ]
     },
     "execution_count": 95,
     "metadata": {},
     "output_type": "execute_result"
    }
   ],
   "source": [
    "f_select = SelectFromModel(RandomForestClassifier(n_estimators=100, random_state = 32, n_jobs=1))\n",
    "f_select.fit(X_train, y_train)\n",
    "f_selected = dict(zip(X.columns, f_select.get_support()))\n",
    "\n",
    "f_selected"
   ]
  },
  {
   "cell_type": "code",
   "execution_count": 96,
   "metadata": {},
   "outputs": [
    {
     "name": "stdout",
     "output_type": "stream",
     "text": [
      "Mean feature importance: 0.05263157894736842\n"
     ]
    }
   ],
   "source": [
    "print('Mean feature importance:' , np.mean(f_select.estimator_.feature_importances_))"
   ]
  },
  {
   "cell_type": "code",
   "execution_count": 97,
   "metadata": {},
   "outputs": [
    {
     "data": {
      "text/plain": [
       "[0.06060219076226123,\n",
       " 0.12284408179572483,\n",
       " 0.05336451282369827,\n",
       " 0.19218905890597118,\n",
       " 0.254525018456354,\n",
       " 0.09512444879477058]"
      ]
     },
     "execution_count": 97,
     "metadata": {},
     "output_type": "execute_result"
    }
   ],
   "source": [
    "# Listing feature importance values grater than the mean\n",
    "values = []\n",
    "for v in f_select.estimator_.feature_importances_:\n",
    "    if v > np.mean(f_select.estimator_.feature_importances_):\n",
    "        values.append(v)\n",
    "values"
   ]
  },
  {
   "cell_type": "code",
   "execution_count": 98,
   "metadata": {},
   "outputs": [],
   "source": [
    "# Listing cols from select.estimator feature importance \n",
    "cols = []\n",
    "for col, support in f_selected.items():\n",
    "    if support == True:\n",
    "        cols.append(col)"
   ]
  },
  {
   "cell_type": "code",
   "execution_count": 99,
   "metadata": {},
   "outputs": [
    {
     "data": {
      "text/plain": [
       "[('Total_Relationship_Count', 0.06060219076226123),\n",
       " ('Total_Revolving_Bal', 0.12284408179572483),\n",
       " ('Total_Amt_Chng_Q4_Q1', 0.05336451282369827),\n",
       " ('Total_Trans_Amt', 0.19218905890597118),\n",
       " ('Total_Trans_Ct', 0.254525018456354),\n",
       " ('Total_Ct_Chng_Q4_Q1', 0.09512444879477058)]"
      ]
     },
     "execution_count": 99,
     "metadata": {},
     "output_type": "execute_result"
    }
   ],
   "source": [
    "# Zipping cols and scores together\n",
    "important_features = list(zip(cols, values))\n",
    "important_features"
   ]
  },
  {
   "cell_type": "code",
   "execution_count": 100,
   "metadata": {},
   "outputs": [],
   "source": [
    "# Total_Trans_Ct carries the highest importance information for RandomForest classifier"
   ]
  },
  {
   "cell_type": "markdown",
   "metadata": {},
   "source": [
    "# Estimator Feature Imprtance \n",
    "* Modelling using all feature versus the 7 selected by estimator_.feature_importances_"
   ]
  },
  {
   "cell_type": "code",
   "execution_count": 101,
   "metadata": {},
   "outputs": [],
   "source": [
    "X_train_rfc = f_select.transform(X_train)\n",
    "X_test_rfc = f_select.transform(X_test)"
   ]
  },
  {
   "cell_type": "code",
   "execution_count": 102,
   "metadata": {},
   "outputs": [
    {
     "data": {
      "text/plain": [
       "((4250, 19), (4250, 6))"
      ]
     },
     "execution_count": 102,
     "metadata": {},
     "output_type": "execute_result"
    }
   ],
   "source": [
    "X_test.shape, X_test_rfc.shape"
   ]
  },
  {
   "cell_type": "code",
   "execution_count": 103,
   "metadata": {},
   "outputs": [],
   "source": [
    "def run_rfc(X_train, X_test, y_train, y_test):\n",
    "    rfc = RandomForestClassifier(n_estimators=100, random_state = 32, n_jobs=-1)\n",
    "    rfc.fit(X_train, y_train)\n",
    "    y_preds = rfc.predict(X_test)\n",
    "    print(classification_report(y_preds, y_test))"
   ]
  },
  {
   "cell_type": "code",
   "execution_count": 104,
   "metadata": {},
   "outputs": [
    {
     "name": "stdout",
     "output_type": "stream",
     "text": [
      "              precision    recall  f1-score   support\n",
      "\n",
      "           0       0.97      0.98      0.97      2099\n",
      "           1       0.98      0.97      0.97      2151\n",
      "\n",
      "    accuracy                           0.97      4250\n",
      "   macro avg       0.97      0.97      0.97      4250\n",
      "weighted avg       0.97      0.97      0.97      4250\n",
      "\n",
      "CPU times: user 2.59 s, sys: 67.3 ms, total: 2.65 s\n",
      "Wall time: 1.1 s\n"
     ]
    }
   ],
   "source": [
    "%%time\n",
    "run_rfc(X_train, X_test, y_train, y_test)"
   ]
  },
  {
   "cell_type": "code",
   "execution_count": 105,
   "metadata": {},
   "outputs": [
    {
     "name": "stdout",
     "output_type": "stream",
     "text": [
      "              precision    recall  f1-score   support\n",
      "\n",
      "           0       0.95      0.97      0.96      2095\n",
      "           1       0.97      0.95      0.96      2155\n",
      "\n",
      "    accuracy                           0.96      4250\n",
      "   macro avg       0.96      0.96      0.96      4250\n",
      "weighted avg       0.96      0.96      0.96      4250\n",
      "\n",
      "CPU times: user 1.88 s, sys: 64.3 ms, total: 1.94 s\n",
      "Wall time: 790 ms\n"
     ]
    }
   ],
   "source": [
    "%%time\n",
    "run_rfc(X_train_rfc, X_test_rfc, y_train, y_test)"
   ]
  },
  {
   "cell_type": "code",
   "execution_count": 106,
   "metadata": {},
   "outputs": [],
   "source": [
    "# ScoreMArginally lower score using just 7 columns"
   ]
  },
  {
   "cell_type": "markdown",
   "metadata": {},
   "source": [
    "### Recursive Feature Elimination"
   ]
  },
  {
   "cell_type": "code",
   "execution_count": 107,
   "metadata": {},
   "outputs": [
    {
     "data": {
      "text/plain": [
       "RFE(estimator=RandomForestClassifier(n_jobs=1, random_state=32),\n",
       "    n_features_to_select=7)"
      ]
     },
     "execution_count": 107,
     "metadata": {},
     "output_type": "execute_result"
    }
   ],
   "source": [
    "# Setting RFE hyperparameters and fitting training data\n",
    "selector = RFE(RandomForestClassifier(n_estimators=100, random_state=32, n_jobs=1), n_features_to_select = 7)\n",
    "selector.fit(X_train, y_train)"
   ]
  },
  {
   "cell_type": "code",
   "execution_count": 108,
   "metadata": {},
   "outputs": [
    {
     "data": {
      "text/plain": [
       "Index(['Total_Relationship_Count', 'Total_Revolving_Bal', 'Total_Amt_Chng_Q4_Q1', 'Total_Trans_Amt', 'Total_Trans_Ct', 'Total_Ct_Chng_Q4_Q1', 'Avg_Utilization_Ratio'], dtype='object')"
      ]
     },
     "execution_count": 108,
     "metadata": {},
     "output_type": "execute_result"
    }
   ],
   "source": [
    "# RFE slected key features by importance\n",
    "features = X_train.columns[selector.get_support()]\n",
    "features"
   ]
  },
  {
   "cell_type": "code",
   "execution_count": 109,
   "metadata": {},
   "outputs": [],
   "source": [
    "X_train_rfe = selector.transform(X_train)\n",
    "X_test_rfe = selector.transform(X_test)"
   ]
  },
  {
   "cell_type": "code",
   "execution_count": 110,
   "metadata": {},
   "outputs": [
    {
     "name": "stdout",
     "output_type": "stream",
     "text": [
      "              precision    recall  f1-score   support\n",
      "\n",
      "           0       0.97      0.98      0.97      2099\n",
      "           1       0.98      0.97      0.97      2151\n",
      "\n",
      "    accuracy                           0.97      4250\n",
      "   macro avg       0.97      0.97      0.97      4250\n",
      "weighted avg       0.97      0.97      0.97      4250\n",
      "\n",
      "CPU times: user 2.53 s, sys: 62.7 ms, total: 2.6 s\n",
      "Wall time: 1.01 s\n"
     ]
    }
   ],
   "source": [
    "%%time\n",
    "run_rfc(X_train, X_test, y_train, y_test)"
   ]
  },
  {
   "cell_type": "code",
   "execution_count": 111,
   "metadata": {},
   "outputs": [
    {
     "name": "stdout",
     "output_type": "stream",
     "text": [
      "              precision    recall  f1-score   support\n",
      "\n",
      "           0       0.95      0.97      0.96      2084\n",
      "           1       0.97      0.95      0.96      2166\n",
      "\n",
      "    accuracy                           0.96      4250\n",
      "   macro avg       0.96      0.96      0.96      4250\n",
      "weighted avg       0.96      0.96      0.96      4250\n",
      "\n",
      "CPU times: user 1.8 s, sys: 54.7 ms, total: 1.85 s\n",
      "Wall time: 801 ms\n"
     ]
    }
   ],
   "source": [
    "%%time\n",
    "run_rfc(X_train_rfe, X_test_rfe, y_train, y_test)"
   ]
  },
  {
   "cell_type": "markdown",
   "metadata": {},
   "source": [
    "# Recursive Feature Selection With GradientBoost\n",
    "Adding one feature more than SelectFromModel"
   ]
  },
  {
   "cell_type": "code",
   "execution_count": 112,
   "metadata": {},
   "outputs": [
    {
     "data": {
      "text/plain": [
       "RFE(estimator=GradientBoostingClassifier(random_state=32),\n",
       "    n_features_to_select=7)"
      ]
     },
     "execution_count": 112,
     "metadata": {},
     "output_type": "execute_result"
    }
   ],
   "source": [
    "selector = RFE(GradientBoostingClassifier(n_estimators=100, random_state=32), n_features_to_select =7)\n",
    "selector.fit(X_train, y_train)"
   ]
  },
  {
   "cell_type": "code",
   "execution_count": 113,
   "metadata": {},
   "outputs": [],
   "source": [
    "features = X_train.columns[selector.get_support()]\n",
    "scores = selector.estimator_.feature_importances_"
   ]
  },
  {
   "cell_type": "code",
   "execution_count": 114,
   "metadata": {},
   "outputs": [
    {
     "data": {
      "text/plain": [
       "[('Customer_Age', 0.014677267656629875),\n",
       " ('Total_Relationship_Count', 0.06741724465545607),\n",
       " ('Total_Revolving_Bal', 0.1269288142651648),\n",
       " ('Total_Amt_Chng_Q4_Q1', 0.022995741288908186),\n",
       " ('Total_Trans_Amt', 0.1725278882839507),\n",
       " ('Total_Trans_Ct', 0.531512893995223),\n",
       " ('Total_Ct_Chng_Q4_Q1', 0.0639401498546675)]"
      ]
     },
     "execution_count": 114,
     "metadata": {},
     "output_type": "execute_result"
    }
   ],
   "source": [
    "feature_scores = list(zip(features, scores))\n",
    "feature_scores"
   ]
  },
  {
   "cell_type": "code",
   "execution_count": 115,
   "metadata": {},
   "outputs": [
    {
     "name": "stdout",
     "output_type": "stream",
     "text": [
      "Selected Feature: 7\n",
      "              precision    recall  f1-score   support\n",
      "\n",
      "           0       0.96      0.97      0.96      2096\n",
      "           1       0.97      0.96      0.96      2154\n",
      "\n",
      "    accuracy                           0.96      4250\n",
      "   macro avg       0.96      0.96      0.96      4250\n",
      "weighted avg       0.96      0.96      0.96      4250\n",
      "\n",
      "\n"
     ]
    }
   ],
   "source": [
    "# Modelling the 7 best features Gradient boosted sklearn recursive feature elemination method\n",
    "selector = RFE(GradientBoostingClassifier(n_estimators=100, random_state=32), n_features_to_select=7)\n",
    "selector.fit(X_train, y_train)\n",
    "X_train_grfe = selector.transform(X_train)\n",
    "X_test_grfe = selector.transform(X_test)\n",
    "print('Selected Feature:', 7)\n",
    "run_rfc(X_train_grfe, X_test_grfe, y_train, y_test)\n",
    "print()"
   ]
  },
  {
   "cell_type": "code",
   "execution_count": 116,
   "metadata": {},
   "outputs": [
    {
     "name": "stdout",
     "output_type": "stream",
     "text": [
      "Selected Feature: 1\n",
      "              precision    recall  f1-score   support\n",
      "\n",
      "           0       0.94      0.87      0.90      2291\n",
      "           1       0.86      0.93      0.90      1959\n",
      "\n",
      "    accuracy                           0.90      4250\n",
      "   macro avg       0.90      0.90      0.90      4250\n",
      "weighted avg       0.90      0.90      0.90      4250\n",
      "\n",
      "\n",
      "Selected Feature: 2\n",
      "              precision    recall  f1-score   support\n",
      "\n",
      "           0       0.90      0.90      0.90      2112\n",
      "           1       0.90      0.90      0.90      2138\n",
      "\n",
      "    accuracy                           0.90      4250\n",
      "   macro avg       0.90      0.90      0.90      4250\n",
      "weighted avg       0.90      0.90      0.90      4250\n",
      "\n",
      "\n",
      "Selected Feature: 3\n",
      "              precision    recall  f1-score   support\n",
      "\n",
      "           0       0.92      0.93      0.92      2096\n",
      "           1       0.93      0.92      0.92      2154\n",
      "\n",
      "    accuracy                           0.92      4250\n",
      "   macro avg       0.92      0.92      0.92      4250\n",
      "weighted avg       0.92      0.92      0.92      4250\n",
      "\n",
      "\n",
      "Selected Feature: 4\n",
      "              precision    recall  f1-score   support\n",
      "\n",
      "           0       0.93      0.94      0.94      2100\n",
      "           1       0.94      0.93      0.94      2150\n",
      "\n",
      "    accuracy                           0.94      4250\n",
      "   macro avg       0.94      0.94      0.94      4250\n",
      "weighted avg       0.94      0.94      0.94      4250\n",
      "\n",
      "\n",
      "Selected Feature: 5\n",
      "              precision    recall  f1-score   support\n",
      "\n",
      "           0       0.95      0.96      0.95      2102\n",
      "           1       0.96      0.95      0.95      2148\n",
      "\n",
      "    accuracy                           0.95      4250\n",
      "   macro avg       0.95      0.95      0.95      4250\n",
      "weighted avg       0.95      0.95      0.95      4250\n",
      "\n",
      "\n",
      "Selected Feature: 6\n",
      "              precision    recall  f1-score   support\n",
      "\n",
      "           0       0.95      0.97      0.96      2095\n",
      "           1       0.97      0.95      0.96      2155\n",
      "\n",
      "    accuracy                           0.96      4250\n",
      "   macro avg       0.96      0.96      0.96      4250\n",
      "weighted avg       0.96      0.96      0.96      4250\n",
      "\n",
      "\n",
      "Selected Feature: 7\n",
      "              precision    recall  f1-score   support\n",
      "\n",
      "           0       0.96      0.97      0.96      2096\n",
      "           1       0.97      0.96      0.96      2154\n",
      "\n",
      "    accuracy                           0.96      4250\n",
      "   macro avg       0.96      0.96      0.96      4250\n",
      "weighted avg       0.96      0.96      0.96      4250\n",
      "\n",
      "\n",
      "Selected Feature: 8\n",
      "              precision    recall  f1-score   support\n",
      "\n",
      "           0       0.96      0.97      0.97      2104\n",
      "           1       0.97      0.97      0.97      2146\n",
      "\n",
      "    accuracy                           0.97      4250\n",
      "   macro avg       0.97      0.97      0.97      4250\n",
      "weighted avg       0.97      0.97      0.97      4250\n",
      "\n",
      "\n",
      "Selected Feature: 9\n",
      "              precision    recall  f1-score   support\n",
      "\n",
      "           0       0.96      0.97      0.97      2108\n",
      "           1       0.97      0.96      0.97      2142\n",
      "\n",
      "    accuracy                           0.97      4250\n",
      "   macro avg       0.97      0.97      0.97      4250\n",
      "weighted avg       0.97      0.97      0.97      4250\n",
      "\n",
      "\n",
      "Selected Feature: 10\n",
      "              precision    recall  f1-score   support\n",
      "\n",
      "           0       0.96      0.98      0.97      2094\n",
      "           1       0.98      0.96      0.97      2156\n",
      "\n",
      "    accuracy                           0.97      4250\n",
      "   macro avg       0.97      0.97      0.97      4250\n",
      "weighted avg       0.97      0.97      0.97      4250\n",
      "\n",
      "\n",
      "Selected Feature: 11\n",
      "              precision    recall  f1-score   support\n",
      "\n",
      "           0       0.96      0.98      0.97      2098\n",
      "           1       0.98      0.96      0.97      2152\n",
      "\n",
      "    accuracy                           0.97      4250\n",
      "   macro avg       0.97      0.97      0.97      4250\n",
      "weighted avg       0.97      0.97      0.97      4250\n",
      "\n",
      "\n",
      "Selected Feature: 12\n",
      "              precision    recall  f1-score   support\n",
      "\n",
      "           0       0.97      0.98      0.97      2102\n",
      "           1       0.98      0.97      0.97      2148\n",
      "\n",
      "    accuracy                           0.97      4250\n",
      "   macro avg       0.97      0.97      0.97      4250\n",
      "weighted avg       0.97      0.97      0.97      4250\n",
      "\n",
      "\n",
      "Selected Feature: 13\n",
      "              precision    recall  f1-score   support\n",
      "\n",
      "           0       0.97      0.98      0.97      2102\n",
      "           1       0.98      0.97      0.97      2148\n",
      "\n",
      "    accuracy                           0.97      4250\n",
      "   macro avg       0.97      0.97      0.97      4250\n",
      "weighted avg       0.97      0.97      0.97      4250\n",
      "\n",
      "\n",
      "Selected Feature: 14\n",
      "              precision    recall  f1-score   support\n",
      "\n",
      "           0       0.97      0.98      0.97      2104\n",
      "           1       0.98      0.97      0.97      2146\n",
      "\n",
      "    accuracy                           0.97      4250\n",
      "   macro avg       0.97      0.97      0.97      4250\n",
      "weighted avg       0.97      0.97      0.97      4250\n",
      "\n",
      "\n",
      "Selected Feature: 15\n",
      "              precision    recall  f1-score   support\n",
      "\n",
      "           0       0.97      0.98      0.97      2100\n",
      "           1       0.98      0.97      0.97      2150\n",
      "\n",
      "    accuracy                           0.97      4250\n",
      "   macro avg       0.97      0.97      0.97      4250\n",
      "weighted avg       0.97      0.97      0.97      4250\n",
      "\n",
      "\n",
      "Selected Feature: 16\n",
      "              precision    recall  f1-score   support\n",
      "\n",
      "           0       0.97      0.98      0.97      2104\n",
      "           1       0.98      0.97      0.97      2146\n",
      "\n",
      "    accuracy                           0.97      4250\n",
      "   macro avg       0.97      0.97      0.97      4250\n",
      "weighted avg       0.97      0.97      0.97      4250\n",
      "\n",
      "\n",
      "Selected Feature: 17\n",
      "              precision    recall  f1-score   support\n",
      "\n",
      "           0       0.97      0.98      0.97      2104\n",
      "           1       0.98      0.97      0.97      2146\n",
      "\n",
      "    accuracy                           0.97      4250\n",
      "   macro avg       0.97      0.97      0.97      4250\n",
      "weighted avg       0.97      0.97      0.97      4250\n",
      "\n",
      "\n",
      "Selected Feature: 18\n",
      "              precision    recall  f1-score   support\n",
      "\n",
      "           0       0.97      0.98      0.97      2096\n",
      "           1       0.98      0.97      0.97      2154\n",
      "\n",
      "    accuracy                           0.97      4250\n",
      "   macro avg       0.97      0.97      0.97      4250\n",
      "weighted avg       0.97      0.97      0.97      4250\n",
      "\n",
      "\n",
      "Selected Feature: 19\n",
      "              precision    recall  f1-score   support\n",
      "\n",
      "           0       0.97      0.98      0.97      2099\n",
      "           1       0.98      0.97      0.97      2151\n",
      "\n",
      "    accuracy                           0.97      4250\n",
      "   macro avg       0.97      0.97      0.97      4250\n",
      "weighted avg       0.97      0.97      0.97      4250\n",
      "\n",
      "\n"
     ]
    }
   ],
   "source": [
    "# Looping through feqture by feature with range of columns\n",
    "for index in range(1,20):\n",
    "    selector = RFE(GradientBoostingClassifier(n_estimators=100, random_state=32), n_features_to_select=index)\n",
    "    selector.fit(X_train, y_train)\n",
    "    X_train_grfe = selector.transform(X_train)\n",
    "    X_test_grfe = selector.transform(X_test)\n",
    "    print('Selected Feature:', index)\n",
    "    run_rfc(X_train_grfe, X_test_grfe, y_train, y_test)\n",
    "    print()\n",
    "    "
   ]
  },
  {
   "cell_type": "markdown",
   "metadata": {},
   "source": [
    "# Train and test modelling with cross val and 7 features"
   ]
  },
  {
   "cell_type": "code",
   "execution_count": 117,
   "metadata": {},
   "outputs": [],
   "source": [
    "# Scoring function to use with make_scorer which will produce a classification report for each fold\n",
    "def kfold_class_report(y, y_pred):\n",
    "    o_class.extend(y) \n",
    "    p_class.extend(y_pred) \n",
    "    return accuracy_score(y, y_pred)\n",
    "    "
   ]
  },
  {
   "cell_type": "markdown",
   "metadata": {},
   "source": [
    "### Train Set"
   ]
  },
  {
   "cell_type": "code",
   "execution_count": 142,
   "metadata": {},
   "outputs": [
    {
     "name": "stdout",
     "output_type": "stream",
     "text": [
      "0.9633725490196079\n"
     ]
    }
   ],
   "source": [
    "clf = RandomForestClassifier()\n",
    "\n",
    "o_class=[]\n",
    "p_class=[]\n",
    "cv = StratifiedKFold(n_splits= 5, shuffle=True, random_state = 32)\n",
    "train_score = cross_val_score(clf, X_train[features], y_train, scoring= make_scorer(kfold_class_report), n_jobs=1, cv = cv, error_score = 'raise')\n",
    "print(train_score.mean())\n"
   ]
  },
  {
   "cell_type": "code",
   "execution_count": 175,
   "metadata": {},
   "outputs": [
    {
     "data": {
      "text/plain": [
       "10200.0"
      ]
     },
     "execution_count": 175,
     "metadata": {},
     "output_type": "execute_result"
    }
   ],
   "source": [
    "2550.0 * 4"
   ]
  },
  {
   "cell_type": "code",
   "execution_count": 171,
   "metadata": {},
   "outputs": [
    {
     "name": "stdout",
     "output_type": "stream",
     "text": [
      "Train Data Per-fold Classification Report\n",
      "              precision    recall  f1-score   support\n",
      "\n",
      "           0       0.97      0.96      0.97      1275\n",
      "           1       0.96      0.97      0.97      1275\n",
      "\n",
      "    accuracy                           0.97      2550\n",
      "   macro avg       0.97      0.97      0.97      2550\n",
      "weighted avg       0.97      0.97      0.97      2550\n",
      "\n",
      "Train Data Per-fold Classification Report\n",
      "              precision    recall  f1-score   support\n",
      "\n",
      "           0       0.97      0.96      0.96      1275\n",
      "           1       0.96      0.97      0.96      1275\n",
      "\n",
      "    accuracy                           0.96      2550\n",
      "   macro avg       0.96      0.96      0.96      2550\n",
      "weighted avg       0.96      0.96      0.96      2550\n",
      "\n",
      "Train Data Per-fold Classification Report\n",
      "              precision    recall  f1-score   support\n",
      "\n",
      "           0       0.97      0.96      0.97      1275\n",
      "           1       0.96      0.97      0.97      1275\n",
      "\n",
      "    accuracy                           0.97      2550\n",
      "   macro avg       0.97      0.97      0.97      2550\n",
      "weighted avg       0.97      0.97      0.97      2550\n",
      "\n",
      "Train Data Per-fold Classification Report\n",
      "              precision    recall  f1-score   support\n",
      "\n",
      "           0       0.96      0.96      0.96      1275\n",
      "           1       0.96      0.96      0.96      1275\n",
      "\n",
      "    accuracy                           0.96      2550\n",
      "   macro avg       0.96      0.96      0.96      2550\n",
      "weighted avg       0.96      0.96      0.96      2550\n",
      "\n"
     ]
    }
   ],
   "source": [
    "#Score for each fold\n",
    "start = 0\n",
    "end = 2550\n",
    "\n",
    "while start < 10200:\n",
    "    while end < 12750:\n",
    "        print(\"Train Data Per-fold Classification Report\\n\"+classification_report(o_class[start:end], p_class[start:end]))\n",
    "        start+=2550\n",
    "        end+=2550\n",
    "        "
   ]
  },
  {
   "cell_type": "markdown",
   "metadata": {},
   "source": [
    "# Test Set"
   ]
  },
  {
   "cell_type": "code",
   "execution_count": null,
   "metadata": {},
   "outputs": [],
   "source": [
    "o_class=[]\n",
    "p_class=[]\n",
    "test_score = cross_val_score(clf, X_test[features], y_test, scoring= make_scorer(kfold_class_report), n_jobs=1, cv = cv, error_score = 'raise')\n",
    "print(test_score.mean())\n"
   ]
  },
  {
   "cell_type": "code",
   "execution_count": 122,
   "metadata": {},
   "outputs": [
    {
     "data": {
      "text/plain": [
       "3400"
      ]
     },
     "execution_count": 122,
     "metadata": {},
     "output_type": "execute_result"
    }
   ],
   "source": [
    "4250 - 850"
   ]
  },
  {
   "cell_type": "code",
   "execution_count": 177,
   "metadata": {},
   "outputs": [
    {
     "name": "stdout",
     "output_type": "stream",
     "text": [
      "Test Data Per-fold Classification Report\n",
      "              precision    recall  f1-score   support\n",
      "\n",
      "           0       0.95      0.97      0.96       217\n",
      "           1       0.97      0.96      0.97       233\n",
      "\n",
      "    accuracy                           0.96       450\n",
      "   macro avg       0.96      0.96      0.96       450\n",
      "weighted avg       0.96      0.96      0.96       450\n",
      "\n",
      "Test Data Per-fold Classification Report\n",
      "              precision    recall  f1-score   support\n",
      "\n",
      "           0       0.98      0.97      0.98       243\n",
      "           1       0.97      0.98      0.97       207\n",
      "\n",
      "    accuracy                           0.98       450\n",
      "   macro avg       0.97      0.98      0.98       450\n",
      "weighted avg       0.98      0.98      0.98       450\n",
      "\n",
      "Test Data Per-fold Classification Report\n",
      "              precision    recall  f1-score   support\n",
      "\n",
      "           0       0.95      0.96      0.96       214\n",
      "           1       0.97      0.95      0.96       236\n",
      "\n",
      "    accuracy                           0.96       450\n",
      "   macro avg       0.96      0.96      0.96       450\n",
      "weighted avg       0.96      0.96      0.96       450\n",
      "\n",
      "Test Data Per-fold Classification Report\n",
      "              precision    recall  f1-score   support\n",
      "\n",
      "           0       0.95      0.96      0.95       219\n",
      "           1       0.96      0.95      0.95       231\n",
      "\n",
      "    accuracy                           0.95       450\n",
      "   macro avg       0.95      0.95      0.95       450\n",
      "weighted avg       0.95      0.95      0.95       450\n",
      "\n",
      "Test Data Per-fold Classification Report\n",
      "              precision    recall  f1-score   support\n",
      "\n",
      "           0       0.96      0.94      0.95       228\n",
      "           1       0.94      0.96      0.95       222\n",
      "\n",
      "    accuracy                           0.95       450\n",
      "   macro avg       0.95      0.95      0.95       450\n",
      "weighted avg       0.95      0.95      0.95       450\n",
      "\n"
     ]
    }
   ],
   "source": [
    "#Score for each fold\n",
    "start = 0\n",
    "end = 450\n",
    "\n",
    "while start < 3400:\n",
    "    while end < 4250:\n",
    "        print(\"Test Data Per-fold Classification Report\\n\"+classification_report(o_class[start:end], p_class[start:end]))\n",
    "        start+=850\n",
    "        end+=850"
   ]
  },
  {
   "cell_type": "markdown",
   "metadata": {},
   "source": [
    "# GridSearchCV and RandomforestClassifier Hyperparameter tuning"
   ]
  },
  {
   "cell_type": "code",
   "execution_count": 150,
   "metadata": {},
   "outputs": [],
   "source": [
    "n_estimators = np.arange(50, 300, 50)\n",
    "max_depth = [2, 4]\n",
    "min_samples_split = [2 ,5 ,10]\n",
    "min_samples_leaf = [1, 2, 3]\n",
    "max_features = ['auto', 'sqrt']\n",
    "bootstrap = [True, False]\n",
    "\n",
    "param_grid = {'n_estimators':n_estimators,\n",
    "              'max_depth': max_depth, \n",
    "              'min_samples_split':min_samples_split,\n",
    "              'min_samples_leaf':min_samples_leaf,\n",
    "              'max_features':max_features,\n",
    "              'bootstrap':bootstrap}\n",
    "p_grid = {'n_estimators':[100,200,300,400]}"
   ]
  },
  {
   "cell_type": "code",
   "execution_count": 164,
   "metadata": {},
   "outputs": [],
   "source": [
    "rf_grid = GridSearchCV(estimator= clf, param_grid = p_grid, cv=cv, verbose=2, n_jobs =-1, scoring='f1')"
   ]
  },
  {
   "cell_type": "code",
   "execution_count": 165,
   "metadata": {},
   "outputs": [],
   "source": [
    "# Fitting the GridSearchCV with 7 features selected by RFE"
   ]
  },
  {
   "cell_type": "code",
   "execution_count": 166,
   "metadata": {},
   "outputs": [
    {
     "name": "stdout",
     "output_type": "stream",
     "text": [
      "Fitting 5 folds for each of 4 candidates, totalling 20 fits\n"
     ]
    }
   ],
   "source": [
    "rf_grid_7 = rf_grid.fit(X_train[features], y_train)"
   ]
  },
  {
   "cell_type": "code",
   "execution_count": 167,
   "metadata": {},
   "outputs": [
    {
     "name": "stdout",
     "output_type": "stream",
     "text": [
      "7 Feature Training Set Accuracy 0.9819121447028424\n",
      "7 Feature Test Set Accuracy 0.9702367002577923\n"
     ]
    }
   ],
   "source": [
    "print('7 Feature Training Set Accuracy',rf_grid_7.score(X_train[features], y_train))\n",
    "print('7 Feature Test Set Accuracy',rf_grid_7.score(X_test[features], y_test))"
   ]
  },
  {
   "cell_type": "markdown",
   "metadata": {},
   "source": [
    "### Let's try it with all columns"
   ]
  },
  {
   "cell_type": "code",
   "execution_count": 155,
   "metadata": {},
   "outputs": [
    {
     "name": "stdout",
     "output_type": "stream",
     "text": [
      "Fitting 5 folds for each of 4 candidates, totalling 20 fits\n"
     ]
    }
   ],
   "source": [
    "rf_grid_all = rf_grid.fit(X_train, y_train)"
   ]
  },
  {
   "cell_type": "code",
   "execution_count": 181,
   "metadata": {},
   "outputs": [
    {
     "name": "stdout",
     "output_type": "stream",
     "text": [
      "All Feature Training Set Accuracy 1.0\n",
      "All feature Test Set Accuracy 0.9738823529411764\n"
     ]
    }
   ],
   "source": [
    "print('All Feature Training Set Accuracy',rf_grid_all.score(X_train, y_train))\n",
    "print('All feature Test Set Accuracy',rf_grid_all.score(X_test, y_test))"
   ]
  },
  {
   "cell_type": "markdown",
   "metadata": {},
   "source": [
    "# RandomSearchCV and XGBoost Hyperparameter Tuning"
   ]
  },
  {
   "cell_type": "code",
   "execution_count": 157,
   "metadata": {},
   "outputs": [],
   "source": [
    "n_estimators = np.arange(200,500,100)\n",
    "learning_rate = np.arange(0.05, 0.30, 0.05) #Step size shrinkage used in update to prevents overfitting\n",
    "max_depth = np.arange(5, 15, 2)\n",
    "min_child_weight = np.arange(1, 7, 2) #Minimum sum of instance weight (hessian) needed in a child\n",
    "gamma = np.arange(0.0, 0.5, 0.1)\n",
    "colsample_bytree = np.arange(0.4, 0.8, 0.2)"
   ]
  },
  {
   "cell_type": "code",
   "execution_count": 158,
   "metadata": {},
   "outputs": [],
   "source": [
    "param_grid = {\n",
    "    \"n_estimators\":n_estimators,\n",
    "    \"learning_rate\":learning_rate,\n",
    "    \"max_depth\":max_depth,\n",
    "    \"min_child_weight\":min_child_weight,\n",
    "    \"gamma\":gamma,\n",
    "    \"colsample_bytree\":colsample_bytree,\n",
    "}"
   ]
  },
  {
   "cell_type": "code",
   "execution_count": 159,
   "metadata": {},
   "outputs": [],
   "source": [
    "clf = xgboost.XGBClassifier()\n",
    "\n",
    "random_xgb = RandomizedSearchCV(clf, param_distributions=param_grid,\\\n",
    "                                n_iter=5, scoring='f1', n_jobs=-1, cv=cv,verbose=1)"
   ]
  },
  {
   "cell_type": "code",
   "execution_count": 160,
   "metadata": {},
   "outputs": [
    {
     "name": "stdout",
     "output_type": "stream",
     "text": [
      "Fitting 5 folds for each of 5 candidates, totalling 25 fits\n"
     ]
    },
    {
     "data": {
      "text/plain": [
       "RandomizedSearchCV(cv=StratifiedKFold(n_splits=5, random_state=32, shuffle=True),\n",
       "                   estimator=XGBClassifier(), n_iter=5, n_jobs=-1,\n",
       "                   param_distributions={'colsample_bytree': array([0.4, 0.6]),\n",
       "                                        'gamma': array([0. , 0.1, 0.2, 0.3, 0.4]),\n",
       "                                        'learning_rate': array([0.05, 0.1 , 0.15, 0.2 , 0.25]),\n",
       "                                        'max_depth': array([ 5,  7,  9, 11, 13]),\n",
       "                                        'min_child_weight': array([1, 3, 5]),\n",
       "                                        'n_estimators': array([200, 300, 400])},\n",
       "                   scoring='f1', verbose=1)"
      ]
     },
     "execution_count": 160,
     "metadata": {},
     "output_type": "execute_result"
    }
   ],
   "source": [
    "random_xgb.fit(X_train[features], y_train)"
   ]
  },
  {
   "cell_type": "code",
   "execution_count": 161,
   "metadata": {},
   "outputs": [
    {
     "name": "stdout",
     "output_type": "stream",
     "text": [
      "0.973352033660589\n"
     ]
    }
   ],
   "source": [
    "print(random_xgb.score(X_test[features], y_test))"
   ]
  },
  {
   "cell_type": "markdown",
   "metadata": {},
   "source": [
    "# Take Away\n",
    "\n",
    "Of the columns highlighted in 1. BankChurn EDA almost all are included as key features. Solid precision, recall, f1-score with just 7 columns with and without hyperparameter tuning.\n",
    "\n",
    "Columns highlighted at EDA stage not included in SelectFromFeature and RFE:\n",
    "* Months_Inactive_12_mon\n",
    "* Contacts_Count_12_mon\n",
    "\n",
    "One column not identified by EDA but selected but SelectFremFeature and RFE: \n",
    "* Total_Amt_Chng_Q4_Q1\n",
    "\n",
    "Total_Trans_Ct carries the most information and is the most important feature \n"
   ]
  },
  {
   "cell_type": "code",
   "execution_count": 206,
   "metadata": {},
   "outputs": [
    {
     "data": {
      "image/png": "[encoded data removed]",
      "text/plain": [
       "<Figure size 720x504 with 1 Axes>"
      ]
     },
     "metadata": {
      "needs_background": "light"
     },
     "output_type": "display_data"
    }
   ],
   "source": [
    "customer = df_smote[df_smote['Attrition_Flag']==0]\n",
    "churner = df_smote[df_smote['Attrition_Flag']==1]\n",
    "\n",
    "plt.figure(figsize=(10,7))\n",
    "sns.distplot(customer['Total_Trans_Ct'])\n",
    "sns.distplot(churner['Total_Trans_Ct'])\n",
    "plt.show()"
   ]
  },
  {
   "cell_type": "code",
   "execution_count": null,
   "metadata": {},
   "outputs": [],
   "source": []
  },
  {
   "cell_type": "code",
   "execution_count": null,
   "metadata": {},
   "outputs": [],
   "source": []
  }
 ],
 "metadata": {
  "kernelspec": {
   "display_name": "Python 3",
   "language": "python",
   "name": "python3"
  },
  "language_info": {
   "codemirror_mode": {
    "name": "ipython",
    "version": 3
   },
   "file_extension": ".py",
   "mimetype": "text/x-python",
   "name": "python",
   "nbconvert_exporter": "python",
   "pygments_lexer": "ipython3",
   "version": "3.7.6"
  }
 },
 "nbformat": 4,
 "nbformat_minor": 4
}
